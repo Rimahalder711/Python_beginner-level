{
 "cells": [
  {
   "cell_type": "markdown",
   "id": "8a47d67f-ada5-4611-a1c3-db727523abd9",
   "metadata": {},
   "source": [
    "# DATA TYPE\n",
    "\n",
    "In Python, int, float, complex, bool, and str are the fundamental built-in data types that allow \n",
    "you to represent and manipulate different kinds of data. "
   ]
  },
  {
   "cell_type": "code",
   "execution_count": 129,
   "id": "f86e8db9-79ff-4b3a-8857-33fd8f364710",
   "metadata": {},
   "outputs": [],
   "source": [
    "# integer datatype = int\n",
    "# float datatype = float\n",
    "# complex datatype = complex\n",
    "# string datatype = str\n",
    "# bool datatype = bool"
   ]
  },
  {
   "cell_type": "markdown",
   "id": "4f906ca5-78f4-41a0-a80b-a629579e6b3c",
   "metadata": {},
   "source": [
    "## 1. int (Integer)"
   ]
  },
  {
   "cell_type": "code",
   "execution_count": 9,
   "id": "41cd2416-29f4-4956-8e86-7252f78bde22",
   "metadata": {},
   "outputs": [],
   "source": [
    "x = 10             # Positive integer\n",
    "y = -42            # Negative integer\n",
    "z = 0              # Zero\n"
   ]
  },
  {
   "cell_type": "markdown",
   "id": "4f69594d-4106-46c8-9603-99478fcc6b97",
   "metadata": {},
   "source": [
    "## 2. float (Floating-Point)"
   ]
  },
  {
   "cell_type": "code",
   "execution_count": 12,
   "id": "ff668b64-1376-4607-8e69-c424eec23f10",
   "metadata": {},
   "outputs": [],
   "source": [
    "a = 3.14               # Positive float\n",
    "b = -0.001             # Negative float\n",
    "c = 2.0                # Float with a value of "
   ]
  },
  {
   "cell_type": "markdown",
   "id": "a2c23db4-2338-4b55-8612-b6e445ce7752",
   "metadata": {},
   "source": [
    "## 3. complex (Complex Number)"
   ]
  },
  {
   "cell_type": "code",
   "execution_count": 15,
   "id": "21b6421c-03e9-44ed-b18c-9128c814421e",
   "metadata": {},
   "outputs": [],
   "source": [
    "x = 1 + 2j            # Complex number with real part 1 and imaginary part 2\n",
    "y = -3 - 4j           # Complex number with real part -3 and imaginary part -4"
   ]
  },
  {
   "cell_type": "markdown",
   "id": "d42d3108-4dfd-496f-869b-14584c76b738",
   "metadata": {},
   "source": [
    "## 4. bool (Boolean)"
   ]
  },
  {
   "cell_type": "code",
   "execution_count": 18,
   "id": "da4a5c6f-b6d0-4d59-af64-ce1546a94c0d",
   "metadata": {},
   "outputs": [],
   "source": [
    "x = True # Boolean True\n",
    "y = False # Boolean False\n"
   ]
  },
  {
   "cell_type": "markdown",
   "id": "45e82a95-11bc-4b48-b589-5ef4d27aeb33",
   "metadata": {},
   "source": [
    "## 5. str (String)"
   ]
  },
  {
   "cell_type": "code",
   "execution_count": 21,
   "id": "a2375ef7-6a80-4c3a-93c1-6b6e277cc1dd",
   "metadata": {},
   "outputs": [],
   "source": [
    "name = \"Alice\" # String with double quotes\n",
    "message = 'Hello, World!' # String with single quoteS"
   ]
  },
  {
   "cell_type": "code",
   "execution_count": null,
   "id": "e88721ed-b529-4cb6-b95e-c48ea0d2a1bd",
   "metadata": {},
   "outputs": [],
   "source": []
  },
  {
   "cell_type": "markdown",
   "id": "3d1ae136-0548-4623-885b-5360cf89a17d",
   "metadata": {},
   "source": [
    "# TYPE CASTING"
   ]
  },
  {
   "cell_type": "code",
   "execution_count": null,
   "id": "da93b04a-c132-447c-8131-df06ceda01c1",
   "metadata": {},
   "outputs": [],
   "source": [
    "int(2.3)           # inside bracket number of parameters present are called arguments\n",
    "                   # here 1 argument or 1 parameter present"
   ]
  },
  {
   "cell_type": "code",
   "execution_count": null,
   "id": "ac6bd121-06e5-4b4c-8479-f1b20b77fa9c",
   "metadata": {},
   "outputs": [],
   "source": [
    "int(10.2 , 20.3)          # here 2 arguments present"
   ]
  },
  {
   "cell_type": "markdown",
   "id": "1356883e-a77d-47ec-ac7a-9b050a4af26b",
   "metadata": {},
   "source": [
    "# OTHER DATATYPE TO INT (1 argument allowed)"
   ]
  },
  {
   "cell_type": "code",
   "execution_count": 2,
   "id": "bb4d6ee3-89a5-4ec0-8f42-1d1fbf1fa624",
   "metadata": {},
   "outputs": [
    {
     "data": {
      "text/plain": [
       "2"
      ]
     },
     "execution_count": 2,
     "metadata": {},
     "output_type": "execute_result"
    }
   ],
   "source": [
    "int(2.3)"
   ]
  },
  {
   "cell_type": "code",
   "execution_count": 25,
   "id": "8f605b69-12dc-415d-bacc-6b20d07c8938",
   "metadata": {},
   "outputs": [
    {
     "ename": "TypeError",
     "evalue": "'float' object cannot be interpreted as an integer",
     "output_type": "error",
     "traceback": [
      "\u001b[1;31m---------------------------------------------------------------------------\u001b[0m",
      "\u001b[1;31mTypeError\u001b[0m                                 Traceback (most recent call last)",
      "Cell \u001b[1;32mIn[25], line 1\u001b[0m\n\u001b[1;32m----> 1\u001b[0m \u001b[38;5;28mint\u001b[39m(\u001b[38;5;241m10.2\u001b[39m ,\u001b[38;5;241m20.3\u001b[39m)\n",
      "\u001b[1;31mTypeError\u001b[0m: 'float' object cannot be interpreted as an integer"
     ]
    }
   ],
   "source": [
    "int(10.2 ,20.3)       #can't pass 2 arguments \n",
    "                      #only one argument is allowed"
   ]
  },
  {
   "cell_type": "code",
   "execution_count": 4,
   "id": "ae2d93aa-ffa5-4ee1-ae29-36f42d7125a5",
   "metadata": {},
   "outputs": [
    {
     "data": {
      "text/plain": [
       "10"
      ]
     },
     "execution_count": 4,
     "metadata": {},
     "output_type": "execute_result"
    }
   ],
   "source": [
    "int(10)"
   ]
  },
  {
   "cell_type": "code",
   "execution_count": 17,
   "id": "60a42182-5ff2-4153-8c2c-515cd077949a",
   "metadata": {},
   "outputs": [
    {
     "ename": "TypeError",
     "evalue": "int() can't convert non-string with explicit base",
     "output_type": "error",
     "traceback": [
      "\u001b[1;31m---------------------------------------------------------------------------\u001b[0m",
      "\u001b[1;31mTypeError\u001b[0m                                 Traceback (most recent call last)",
      "Cell \u001b[1;32mIn[17], line 1\u001b[0m\n\u001b[1;32m----> 1\u001b[0m \u001b[38;5;28mint\u001b[39m(\u001b[38;5;241m10\u001b[39m,\u001b[38;5;241m20\u001b[39m)\n",
      "\u001b[1;31mTypeError\u001b[0m: int() can't convert non-string with explicit base"
     ]
    }
   ],
   "source": [
    "int(10,20)   #can't pass more than 1 argument"
   ]
  },
  {
   "cell_type": "code",
   "execution_count": 14,
   "id": "198cbb6b-fcb8-4c72-994a-275c0f45a928",
   "metadata": {},
   "outputs": [
    {
     "data": {
      "text/plain": [
       "10"
      ]
     },
     "execution_count": 14,
     "metadata": {},
     "output_type": "execute_result"
    }
   ],
   "source": [
    "int('10')"
   ]
  },
  {
   "cell_type": "code",
   "execution_count": 21,
   "id": "4dd2a9b7-47a6-48f2-b3f9-4e218150dbe0",
   "metadata": {},
   "outputs": [
    {
     "data": {
      "text/plain": [
       "10"
      ]
     },
     "execution_count": 21,
     "metadata": {},
     "output_type": "execute_result"
    }
   ],
   "source": [
    "int(\"10\")"
   ]
  },
  {
   "cell_type": "code",
   "execution_count": 19,
   "id": "e20365b4-2d92-4581-be1c-0a4f0ca8085c",
   "metadata": {},
   "outputs": [
    {
     "ename": "TypeError",
     "evalue": "'str' object cannot be interpreted as an integer",
     "output_type": "error",
     "traceback": [
      "\u001b[1;31m---------------------------------------------------------------------------\u001b[0m",
      "\u001b[1;31mTypeError\u001b[0m                                 Traceback (most recent call last)",
      "Cell \u001b[1;32mIn[19], line 1\u001b[0m\n\u001b[1;32m----> 1\u001b[0m \u001b[38;5;28mint\u001b[39m(\u001b[38;5;124m'\u001b[39m\u001b[38;5;124m10\u001b[39m\u001b[38;5;124m'\u001b[39m, \u001b[38;5;124m'\u001b[39m\u001b[38;5;124m20\u001b[39m\u001b[38;5;124m'\u001b[39m)\n",
      "\u001b[1;31mTypeError\u001b[0m: 'str' object cannot be interpreted as an integer"
     ]
    }
   ],
   "source": [
    "int('10', '20') # can't pass more than 1 argument"
   ]
  },
  {
   "cell_type": "code",
   "execution_count": 12,
   "id": "cc4c69db-e67d-4aa4-9ae0-e51cab5af22a",
   "metadata": {},
   "outputs": [
    {
     "ename": "ValueError",
     "evalue": "invalid literal for int() with base 10: 'ten'",
     "output_type": "error",
     "traceback": [
      "\u001b[1;31m---------------------------------------------------------------------------\u001b[0m",
      "\u001b[1;31mValueError\u001b[0m                                Traceback (most recent call last)",
      "Cell \u001b[1;32mIn[12], line 1\u001b[0m\n\u001b[1;32m----> 1\u001b[0m \u001b[38;5;28mint\u001b[39m(\u001b[38;5;124m'\u001b[39m\u001b[38;5;124mten\u001b[39m\u001b[38;5;124m'\u001b[39m)\n",
      "\u001b[1;31mValueError\u001b[0m: invalid literal for int() with base 10: 'ten'"
     ]
    }
   ],
   "source": [
    "int('ten') #can't pass word string in int"
   ]
  },
  {
   "cell_type": "code",
   "execution_count": 6,
   "id": "7a276900-e00d-44fb-b261-8cf4ada6125b",
   "metadata": {},
   "outputs": [
    {
     "ename": "TypeError",
     "evalue": "int() argument must be a string, a bytes-like object or a real number, not 'complex'",
     "output_type": "error",
     "traceback": [
      "\u001b[1;31m---------------------------------------------------------------------------\u001b[0m",
      "\u001b[1;31mTypeError\u001b[0m                                 Traceback (most recent call last)",
      "Cell \u001b[1;32mIn[6], line 1\u001b[0m\n\u001b[1;32m----> 1\u001b[0m \u001b[38;5;28mint\u001b[39m(\u001b[38;5;241m1\u001b[39m\u001b[38;5;241m+\u001b[39m\u001b[38;5;241m2\u001b[39mj)\n",
      "\u001b[1;31mTypeError\u001b[0m: int() argument must be a string, a bytes-like object or a real number, not 'complex'"
     ]
    }
   ],
   "source": [
    "int(1+2j) #can't pass complex in int"
   ]
  },
  {
   "cell_type": "code",
   "execution_count": 8,
   "id": "33e7f0e6-9af7-481d-9fda-a3d6bfd31956",
   "metadata": {},
   "outputs": [
    {
     "data": {
      "text/plain": [
       "1"
      ]
     },
     "execution_count": 8,
     "metadata": {},
     "output_type": "execute_result"
    }
   ],
   "source": [
    "int(True)"
   ]
  },
  {
   "cell_type": "code",
   "execution_count": 10,
   "id": "50c903c9-cba5-4aa6-be32-b8701378ad42",
   "metadata": {},
   "outputs": [
    {
     "data": {
      "text/plain": [
       "0"
      ]
     },
     "execution_count": 10,
     "metadata": {},
     "output_type": "execute_result"
    }
   ],
   "source": [
    "int(False)"
   ]
  },
  {
   "cell_type": "markdown",
   "id": "920a3c4a-54e0-4553-b8ec-698e611c0e39",
   "metadata": {},
   "source": [
    "# OTHER DATATYPE TO FLOAT (1 argument allowed)"
   ]
  },
  {
   "cell_type": "code",
   "execution_count": 27,
   "id": "da3cc09e-df67-488c-b3d6-8449851419c6",
   "metadata": {},
   "outputs": [
    {
     "data": {
      "text/plain": [
       "10.0"
      ]
     },
     "execution_count": 27,
     "metadata": {},
     "output_type": "execute_result"
    }
   ],
   "source": [
    "float(10)"
   ]
  },
  {
   "cell_type": "code",
   "execution_count": 29,
   "id": "c1833656-99fd-4856-9278-b0c0f6368c14",
   "metadata": {},
   "outputs": [
    {
     "ename": "TypeError",
     "evalue": "float expected at most 1 argument, got 2",
     "output_type": "error",
     "traceback": [
      "\u001b[1;31m---------------------------------------------------------------------------\u001b[0m",
      "\u001b[1;31mTypeError\u001b[0m                                 Traceback (most recent call last)",
      "Cell \u001b[1;32mIn[29], line 1\u001b[0m\n\u001b[1;32m----> 1\u001b[0m \u001b[38;5;28mfloat\u001b[39m(\u001b[38;5;241m10\u001b[39m,\u001b[38;5;241m20\u001b[39m)\n",
      "\u001b[1;31mTypeError\u001b[0m: float expected at most 1 argument, got 2"
     ]
    }
   ],
   "source": [
    "float(10,20)    #can't pass more than 1 argument"
   ]
  },
  {
   "cell_type": "code",
   "execution_count": 31,
   "id": "10b44fd1-fb8c-4ab0-a40b-0c00173441ef",
   "metadata": {},
   "outputs": [
    {
     "data": {
      "text/plain": [
       "10.0"
      ]
     },
     "execution_count": 31,
     "metadata": {},
     "output_type": "execute_result"
    }
   ],
   "source": [
    "float('10')"
   ]
  },
  {
   "cell_type": "code",
   "execution_count": 33,
   "id": "7c737c4e-5f4a-4ee7-bde6-9e4ea5781ad6",
   "metadata": {},
   "outputs": [
    {
     "data": {
      "text/plain": [
       "10.0"
      ]
     },
     "execution_count": 33,
     "metadata": {},
     "output_type": "execute_result"
    }
   ],
   "source": [
    "float(\"10\")"
   ]
  },
  {
   "cell_type": "code",
   "execution_count": 35,
   "id": "c7a82790-7775-4bc1-8719-2a6b1005d7fb",
   "metadata": {},
   "outputs": [
    {
     "ename": "TypeError",
     "evalue": "float expected at most 1 argument, got 2",
     "output_type": "error",
     "traceback": [
      "\u001b[1;31m---------------------------------------------------------------------------\u001b[0m",
      "\u001b[1;31mTypeError\u001b[0m                                 Traceback (most recent call last)",
      "Cell \u001b[1;32mIn[35], line 1\u001b[0m\n\u001b[1;32m----> 1\u001b[0m \u001b[38;5;28mfloat\u001b[39m(\u001b[38;5;124m'\u001b[39m\u001b[38;5;124m10\u001b[39m\u001b[38;5;124m'\u001b[39m, \u001b[38;5;124m'\u001b[39m\u001b[38;5;124m20\u001b[39m\u001b[38;5;124m'\u001b[39m)\n",
      "\u001b[1;31mTypeError\u001b[0m: float expected at most 1 argument, got 2"
     ]
    }
   ],
   "source": [
    "float('10', '20')   #can't pass more than 1 argument"
   ]
  },
  {
   "cell_type": "code",
   "execution_count": 47,
   "id": "a28e1685-ad36-468f-ba2d-ea171bb13b46",
   "metadata": {},
   "outputs": [
    {
     "ename": "ValueError",
     "evalue": "could not convert string to float: 'ten'",
     "output_type": "error",
     "traceback": [
      "\u001b[1;31m---------------------------------------------------------------------------\u001b[0m",
      "\u001b[1;31mValueError\u001b[0m                                Traceback (most recent call last)",
      "Cell \u001b[1;32mIn[47], line 1\u001b[0m\n\u001b[1;32m----> 1\u001b[0m \u001b[38;5;28mfloat\u001b[39m(\u001b[38;5;124m\"\u001b[39m\u001b[38;5;124mten\u001b[39m\u001b[38;5;124m\"\u001b[39m)\n",
      "\u001b[1;31mValueError\u001b[0m: could not convert string to float: 'ten'"
     ]
    }
   ],
   "source": [
    "float(\"ten\")"
   ]
  },
  {
   "cell_type": "code",
   "execution_count": 49,
   "id": "aa0f2a68-e5a6-4d06-822e-fd5e329e3ff5",
   "metadata": {},
   "outputs": [
    {
     "ename": "TypeError",
     "evalue": "float() argument must be a string or a real number, not 'complex'",
     "output_type": "error",
     "traceback": [
      "\u001b[1;31m---------------------------------------------------------------------------\u001b[0m",
      "\u001b[1;31mTypeError\u001b[0m                                 Traceback (most recent call last)",
      "Cell \u001b[1;32mIn[49], line 1\u001b[0m\n\u001b[1;32m----> 1\u001b[0m \u001b[38;5;28mfloat\u001b[39m(\u001b[38;5;241m1\u001b[39m\u001b[38;5;241m+\u001b[39m\u001b[38;5;241m2\u001b[39mj)\n",
      "\u001b[1;31mTypeError\u001b[0m: float() argument must be a string or a real number, not 'complex'"
     ]
    }
   ],
   "source": [
    "float(1+2j)"
   ]
  },
  {
   "cell_type": "code",
   "execution_count": 51,
   "id": "030243be-cbd5-43b4-bfaa-33c6e48675fb",
   "metadata": {},
   "outputs": [
    {
     "data": {
      "text/plain": [
       "1.0"
      ]
     },
     "execution_count": 51,
     "metadata": {},
     "output_type": "execute_result"
    }
   ],
   "source": [
    "float(True)"
   ]
  },
  {
   "cell_type": "code",
   "execution_count": 53,
   "id": "3132c647-b503-4463-8cd6-abd836be8ffb",
   "metadata": {},
   "outputs": [
    {
     "data": {
      "text/plain": [
       "0.0"
      ]
     },
     "execution_count": 53,
     "metadata": {},
     "output_type": "execute_result"
    }
   ],
   "source": [
    "float(False)"
   ]
  },
  {
   "cell_type": "markdown",
   "id": "ee13a7f9-c752-4af1-b740-545059051bb3",
   "metadata": {},
   "source": [
    "# OTHER DATA TYPE TO COMPLEX ( 2 argument allowed)"
   ]
  },
  {
   "cell_type": "code",
   "execution_count": 57,
   "id": "51d9196b-004c-4334-98c1-875429014a71",
   "metadata": {},
   "outputs": [
    {
     "data": {
      "text/plain": [
       "(10+0j)"
      ]
     },
     "execution_count": 57,
     "metadata": {},
     "output_type": "execute_result"
    }
   ],
   "source": [
    "complex(10)"
   ]
  },
  {
   "cell_type": "code",
   "execution_count": 59,
   "id": "b071895a-ef77-40a6-95af-a09271a4e6b4",
   "metadata": {},
   "outputs": [
    {
     "data": {
      "text/plain": [
       "(10+20j)"
      ]
     },
     "execution_count": 59,
     "metadata": {},
     "output_type": "execute_result"
    }
   ],
   "source": [
    "complex(10,20)"
   ]
  },
  {
   "cell_type": "code",
   "execution_count": 77,
   "id": "3e4a5bdd-0f85-42bc-9767-eaf3f4f4e450",
   "metadata": {},
   "outputs": [
    {
     "ename": "TypeError",
     "evalue": "complex() can't take second arg if first is a string",
     "output_type": "error",
     "traceback": [
      "\u001b[1;31m---------------------------------------------------------------------------\u001b[0m",
      "\u001b[1;31mTypeError\u001b[0m                                 Traceback (most recent call last)",
      "Cell \u001b[1;32mIn[77], line 1\u001b[0m\n\u001b[1;32m----> 1\u001b[0m \u001b[38;5;28mcomplex\u001b[39m(\u001b[38;5;124m'\u001b[39m\u001b[38;5;124m10\u001b[39m\u001b[38;5;124m'\u001b[39m,\u001b[38;5;124m'\u001b[39m\u001b[38;5;124m20\u001b[39m\u001b[38;5;124m'\u001b[39m)\n",
      "\u001b[1;31mTypeError\u001b[0m: complex() can't take second arg if first is a string"
     ]
    }
   ],
   "source": [
    "complex('10','20')"
   ]
  },
  {
   "cell_type": "code",
   "execution_count": 81,
   "id": "257ef4eb-b19d-42d7-8b75-3fa71b3f366f",
   "metadata": {},
   "outputs": [
    {
     "ename": "TypeError",
     "evalue": "complex() can't take second arg if first is a string",
     "output_type": "error",
     "traceback": [
      "\u001b[1;31m---------------------------------------------------------------------------\u001b[0m",
      "\u001b[1;31mTypeError\u001b[0m                                 Traceback (most recent call last)",
      "Cell \u001b[1;32mIn[81], line 1\u001b[0m\n\u001b[1;32m----> 1\u001b[0m \u001b[38;5;28mcomplex\u001b[39m(\u001b[38;5;124m'\u001b[39m\u001b[38;5;124m10\u001b[39m\u001b[38;5;124m'\u001b[39m,\u001b[38;5;241m20\u001b[39m)\n",
      "\u001b[1;31mTypeError\u001b[0m: complex() can't take second arg if first is a string"
     ]
    }
   ],
   "source": [
    "complex('10',20)"
   ]
  },
  {
   "cell_type": "code",
   "execution_count": 79,
   "id": "bd96be0c-5508-4a83-a1cd-bb327fe1244d",
   "metadata": {},
   "outputs": [
    {
     "ename": "TypeError",
     "evalue": "complex() second arg can't be a string",
     "output_type": "error",
     "traceback": [
      "\u001b[1;31m---------------------------------------------------------------------------\u001b[0m",
      "\u001b[1;31mTypeError\u001b[0m                                 Traceback (most recent call last)",
      "Cell \u001b[1;32mIn[79], line 1\u001b[0m\n\u001b[1;32m----> 1\u001b[0m \u001b[38;5;28mcomplex\u001b[39m(\u001b[38;5;241m10\u001b[39m,\u001b[38;5;124m'\u001b[39m\u001b[38;5;124m20\u001b[39m\u001b[38;5;124m'\u001b[39m)\n",
      "\u001b[1;31mTypeError\u001b[0m: complex() second arg can't be a string"
     ]
    }
   ],
   "source": [
    "complex(10,'20')"
   ]
  },
  {
   "cell_type": "code",
   "execution_count": 61,
   "id": "a9d5f81b-cc14-44fb-a591-012b81d2a5ac",
   "metadata": {},
   "outputs": [
    {
     "data": {
      "text/plain": [
       "(10+0j)"
      ]
     },
     "execution_count": 61,
     "metadata": {},
     "output_type": "execute_result"
    }
   ],
   "source": [
    "complex(\"10\")"
   ]
  },
  {
   "cell_type": "code",
   "execution_count": 63,
   "id": "f0821816-3c95-4cd9-a597-0d9870d48d6b",
   "metadata": {},
   "outputs": [
    {
     "data": {
      "text/plain": [
       "(10+0j)"
      ]
     },
     "execution_count": 63,
     "metadata": {},
     "output_type": "execute_result"
    }
   ],
   "source": [
    "complex('10')"
   ]
  },
  {
   "cell_type": "code",
   "execution_count": 65,
   "id": "5eeb92cf-bffa-426a-89ca-558541545d05",
   "metadata": {},
   "outputs": [
    {
     "ename": "TypeError",
     "evalue": "complex() takes at most 2 arguments (3 given)",
     "output_type": "error",
     "traceback": [
      "\u001b[1;31m---------------------------------------------------------------------------\u001b[0m",
      "\u001b[1;31mTypeError\u001b[0m                                 Traceback (most recent call last)",
      "Cell \u001b[1;32mIn[65], line 1\u001b[0m\n\u001b[1;32m----> 1\u001b[0m \u001b[38;5;28mcomplex\u001b[39m(\u001b[38;5;241m10\u001b[39m,\u001b[38;5;241m20\u001b[39m,\u001b[38;5;241m30\u001b[39m)\n",
      "\u001b[1;31mTypeError\u001b[0m: complex() takes at most 2 arguments (3 given)"
     ]
    }
   ],
   "source": [
    "complex(10,20,30)"
   ]
  },
  {
   "cell_type": "code",
   "execution_count": 67,
   "id": "4d6e07b0-6bd1-4b41-af42-5edec22e3a1b",
   "metadata": {},
   "outputs": [
    {
     "data": {
      "text/plain": [
       "(10.2+20j)"
      ]
     },
     "execution_count": 67,
     "metadata": {},
     "output_type": "execute_result"
    }
   ],
   "source": [
    "complex(10.2,20)"
   ]
  },
  {
   "cell_type": "code",
   "execution_count": 69,
   "id": "861229d6-1faa-4bfa-b3ca-8bfdea09fde4",
   "metadata": {},
   "outputs": [
    {
     "data": {
      "text/plain": [
       "(20+10.2j)"
      ]
     },
     "execution_count": 69,
     "metadata": {},
     "output_type": "execute_result"
    }
   ],
   "source": [
    "complex(20,10.2)"
   ]
  },
  {
   "cell_type": "code",
   "execution_count": 71,
   "id": "5072e9d0-361a-473b-bb80-3bf4321437cc",
   "metadata": {},
   "outputs": [
    {
     "data": {
      "text/plain": [
       "(10.2+10.2j)"
      ]
     },
     "execution_count": 71,
     "metadata": {},
     "output_type": "execute_result"
    }
   ],
   "source": [
    "complex(10.2,10.2)"
   ]
  },
  {
   "cell_type": "code",
   "execution_count": 73,
   "id": "bc8f3ef7-e160-4fe1-a6ab-c38e04b6b0ee",
   "metadata": {},
   "outputs": [
    {
     "data": {
      "text/plain": [
       "(1+0j)"
      ]
     },
     "execution_count": 73,
     "metadata": {},
     "output_type": "execute_result"
    }
   ],
   "source": [
    "complex(True)"
   ]
  },
  {
   "cell_type": "code",
   "execution_count": 75,
   "id": "b5bd9de5-e64c-40f8-a2cb-77ba82b933ef",
   "metadata": {},
   "outputs": [
    {
     "data": {
      "text/plain": [
       "0j"
      ]
     },
     "execution_count": 75,
     "metadata": {},
     "output_type": "execute_result"
    }
   ],
   "source": [
    "complex(False)"
   ]
  },
  {
   "cell_type": "code",
   "execution_count": 83,
   "id": "579d41a1-bf38-49c7-aca6-a8be78945239",
   "metadata": {},
   "outputs": [
    {
     "ename": "NameError",
     "evalue": "name 'true' is not defined",
     "output_type": "error",
     "traceback": [
      "\u001b[1;31m---------------------------------------------------------------------------\u001b[0m",
      "\u001b[1;31mNameError\u001b[0m                                 Traceback (most recent call last)",
      "Cell \u001b[1;32mIn[83], line 1\u001b[0m\n\u001b[1;32m----> 1\u001b[0m \u001b[38;5;28mcomplex\u001b[39m(true,false)\n",
      "\u001b[1;31mNameError\u001b[0m: name 'true' is not defined"
     ]
    }
   ],
   "source": [
    "complex(true,false)"
   ]
  },
  {
   "cell_type": "code",
   "execution_count": 85,
   "id": "207df833-a4e8-476f-9809-6098265736c5",
   "metadata": {},
   "outputs": [
    {
     "data": {
      "text/plain": [
       "(1+0j)"
      ]
     },
     "execution_count": 85,
     "metadata": {},
     "output_type": "execute_result"
    }
   ],
   "source": [
    "complex(True, False)"
   ]
  },
  {
   "cell_type": "code",
   "execution_count": 87,
   "id": "a2f43cbe-5168-496e-8470-7dcac51de9e5",
   "metadata": {},
   "outputs": [
    {
     "ename": "TypeError",
     "evalue": "complex() can't take second arg if first is a string",
     "output_type": "error",
     "traceback": [
      "\u001b[1;31m---------------------------------------------------------------------------\u001b[0m",
      "\u001b[1;31mTypeError\u001b[0m                                 Traceback (most recent call last)",
      "Cell \u001b[1;32mIn[87], line 1\u001b[0m\n\u001b[1;32m----> 1\u001b[0m \u001b[38;5;28mcomplex\u001b[39m(\u001b[38;5;124m'\u001b[39m\u001b[38;5;124mTrue\u001b[39m\u001b[38;5;124m'\u001b[39m,\u001b[38;5;124m'\u001b[39m\u001b[38;5;124mFalse\u001b[39m\u001b[38;5;124m'\u001b[39m)\n",
      "\u001b[1;31mTypeError\u001b[0m: complex() can't take second arg if first is a string"
     ]
    }
   ],
   "source": [
    "complex('True','False')"
   ]
  },
  {
   "cell_type": "code",
   "execution_count": 89,
   "id": "4cb01d0e-98f0-405d-ba0c-840b832bb86e",
   "metadata": {},
   "outputs": [
    {
     "data": {
      "text/plain": [
       "1j"
      ]
     },
     "execution_count": 89,
     "metadata": {},
     "output_type": "execute_result"
    }
   ],
   "source": [
    "complex(False,True)"
   ]
  },
  {
   "cell_type": "markdown",
   "id": "f2b061e8-57cd-4c0a-a84d-f6d6e610a6dc",
   "metadata": {},
   "source": [
    "# Other data type to string ( 1 argument allowed)"
   ]
  },
  {
   "cell_type": "code",
   "execution_count": 93,
   "id": "e2df8888-8227-4fb9-811a-b2ae799be349",
   "metadata": {},
   "outputs": [
    {
     "data": {
      "text/plain": [
       "'10'"
      ]
     },
     "execution_count": 93,
     "metadata": {},
     "output_type": "execute_result"
    }
   ],
   "source": [
    "str(10)"
   ]
  },
  {
   "cell_type": "code",
   "execution_count": 95,
   "id": "a936abe0-782f-4e66-9b6a-7070be243288",
   "metadata": {},
   "outputs": [
    {
     "data": {
      "text/plain": [
       "'10'"
      ]
     },
     "execution_count": 95,
     "metadata": {},
     "output_type": "execute_result"
    }
   ],
   "source": [
    "str('10')"
   ]
  },
  {
   "cell_type": "code",
   "execution_count": 97,
   "id": "e9156275-7d63-4dc3-b0fb-8d2937a7209c",
   "metadata": {},
   "outputs": [
    {
     "ename": "TypeError",
     "evalue": "str() argument 'encoding' must be str, not int",
     "output_type": "error",
     "traceback": [
      "\u001b[1;31m---------------------------------------------------------------------------\u001b[0m",
      "\u001b[1;31mTypeError\u001b[0m                                 Traceback (most recent call last)",
      "Cell \u001b[1;32mIn[97], line 1\u001b[0m\n\u001b[1;32m----> 1\u001b[0m \u001b[38;5;28mstr\u001b[39m(\u001b[38;5;241m10\u001b[39m,\u001b[38;5;241m20\u001b[39m)\n",
      "\u001b[1;31mTypeError\u001b[0m: str() argument 'encoding' must be str, not int"
     ]
    }
   ],
   "source": [
    "str(10,20)"
   ]
  },
  {
   "cell_type": "code",
   "execution_count": 99,
   "id": "ef3274d1-155e-495b-beec-b3965c4a8a27",
   "metadata": {},
   "outputs": [
    {
     "data": {
      "text/plain": [
       "'101.1'"
      ]
     },
     "execution_count": 99,
     "metadata": {},
     "output_type": "execute_result"
    }
   ],
   "source": [
    "str(101.10)"
   ]
  },
  {
   "cell_type": "code",
   "execution_count": 101,
   "id": "029bb474-7590-4f5f-a1d7-4f1c58054941",
   "metadata": {},
   "outputs": [
    {
     "data": {
      "text/plain": [
       "'True'"
      ]
     },
     "execution_count": 101,
     "metadata": {},
     "output_type": "execute_result"
    }
   ],
   "source": [
    "str(True)"
   ]
  },
  {
   "cell_type": "code",
   "execution_count": 103,
   "id": "4021e555-e30a-4b0e-8865-4485e9a4370d",
   "metadata": {},
   "outputs": [
    {
     "data": {
      "text/plain": [
       "'(1+2j)'"
      ]
     },
     "execution_count": 103,
     "metadata": {},
     "output_type": "execute_result"
    }
   ],
   "source": [
    "str(1+2j)"
   ]
  },
  {
   "cell_type": "markdown",
   "id": "aead9484-b0bd-4a16-964c-ea02f975ef01",
   "metadata": {},
   "source": [
    "# other data type to bool (1 argument allowed)"
   ]
  },
  {
   "cell_type": "code",
   "execution_count": 106,
   "id": "8fd9499f-b0a7-4e2f-89dc-4de94549b284",
   "metadata": {},
   "outputs": [
    {
     "data": {
      "text/plain": [
       "True"
      ]
     },
     "execution_count": 106,
     "metadata": {},
     "output_type": "execute_result"
    }
   ],
   "source": [
    "bool(10) # nozero means true"
   ]
  },
  {
   "cell_type": "code",
   "execution_count": 108,
   "id": "5d7cfccf-2ad9-4967-93d5-0a61459f8b8c",
   "metadata": {},
   "outputs": [
    {
     "data": {
      "text/plain": [
       "False"
      ]
     },
     "execution_count": 108,
     "metadata": {},
     "output_type": "execute_result"
    }
   ],
   "source": [
    "bool(0)  # zero means false"
   ]
  },
  {
   "cell_type": "code",
   "execution_count": 110,
   "id": "ef2a7fbb-7f3e-43bb-8036-744bf00384ed",
   "metadata": {},
   "outputs": [
    {
     "data": {
      "text/plain": [
       "False"
      ]
     },
     "execution_count": 110,
     "metadata": {},
     "output_type": "execute_result"
    }
   ],
   "source": [
    "bool()   # empty means false"
   ]
  },
  {
   "cell_type": "code",
   "execution_count": 112,
   "id": "46b157b6-9baa-4134-aff4-af656a59c4ee",
   "metadata": {},
   "outputs": [
    {
     "data": {
      "text/plain": [
       "False"
      ]
     },
     "execution_count": 112,
     "metadata": {},
     "output_type": "execute_result"
    }
   ],
   "source": [
    "bool ( )    # space inside bracket"
   ]
  },
  {
   "cell_type": "code",
   "execution_count": 114,
   "id": "d6a156a9-d510-4bbe-8a7e-c73698b4abec",
   "metadata": {},
   "outputs": [
    {
     "data": {
      "text/plain": [
       "True"
      ]
     },
     "execution_count": 114,
     "metadata": {},
     "output_type": "execute_result"
    }
   ],
   "source": [
    "bool (2.3)"
   ]
  },
  {
   "cell_type": "code",
   "execution_count": 116,
   "id": "f1a64fdf-b939-4b0f-9d61-a9ea7374b3e4",
   "metadata": {},
   "outputs": [
    {
     "data": {
      "text/plain": [
       "True"
      ]
     },
     "execution_count": 116,
     "metadata": {},
     "output_type": "execute_result"
    }
   ],
   "source": [
    "bool (1+2j)"
   ]
  },
  {
   "cell_type": "code",
   "execution_count": 118,
   "id": "bc691fb8-a849-497a-aa0f-2ea48379ced6",
   "metadata": {},
   "outputs": [
    {
     "data": {
      "text/plain": [
       "True"
      ]
     },
     "execution_count": 118,
     "metadata": {},
     "output_type": "execute_result"
    }
   ],
   "source": [
    "bool('nit')"
   ]
  },
  {
   "cell_type": "markdown",
   "id": "974f2f03-d483-4a4b-b4a1-ed5decc47f2f",
   "metadata": {},
   "source": [
    "# Data structure divided into 2 types.... 1. Buildin 2. user defined "
   ]
  },
  {
   "cell_type": "markdown",
   "id": "e448f193-c293-4aa8-8d55-484daccf161e",
   "metadata": {},
   "source": [
    " ## 1. Buildin - List, Tuple, Set, Dictionary"
   ]
  },
  {
   "cell_type": "markdown",
   "id": "1e874865-fae0-4730-b9e4-e52ade1f7216",
   "metadata": {},
   "source": [
    "## 2. User defined - Array, Stack, Linkedlist, Queue, Tree"
   ]
  },
  {
   "cell_type": "code",
   "execution_count": null,
   "id": "002002a8-fe5b-4dc9-946a-42949c24c16a",
   "metadata": {},
   "outputs": [],
   "source": []
  },
  {
   "cell_type": "markdown",
   "id": "1d835060-ec89-4a0f-8c43-2dcdd79483bf",
   "metadata": {},
   "source": [
    "# Data type VS Data Structure VS Matrix"
   ]
  },
  {
   "cell_type": "code",
   "execution_count": null,
   "id": "0af96100-2135-415d-bc97-3351efbbfac1",
   "metadata": {},
   "outputs": [],
   "source": [
    "# a = 5         # Data type"
   ]
  },
  {
   "cell_type": "code",
   "execution_count": null,
   "id": "3063527c-c50d-493a-a540-20a9a1aa4f5a",
   "metadata": {},
   "outputs": [],
   "source": [
    "# b = [5,6.7,'nit']   # Data structure = collection od Data type"
   ]
  },
  {
   "cell_type": "code",
   "execution_count": null,
   "id": "8e837932-bc37-4f75-8c5a-6f4324ba9cdd",
   "metadata": {},
   "outputs": [],
   "source": [
    "# c = [1,2,3     # Matrix = collection od Data structure\n",
    "       4,5,6]"
   ]
  },
  {
   "cell_type": "code",
   "execution_count": null,
   "id": "33f68635-7382-43f4-8224-ad4f2f12f06a",
   "metadata": {},
   "outputs": [],
   "source": []
  }
 ],
 "metadata": {
  "kernelspec": {
   "display_name": "Python [conda env:base] *",
   "language": "python",
   "name": "conda-base-py"
  },
  "language_info": {
   "codemirror_mode": {
    "name": "ipython",
    "version": 3
   },
   "file_extension": ".py",
   "mimetype": "text/x-python",
   "name": "python",
   "nbconvert_exporter": "python",
   "pygments_lexer": "ipython3",
   "version": "3.12.7"
  }
 },
 "nbformat": 4,
 "nbformat_minor": 5
}
