{
 "cells": [
  {
   "cell_type": "markdown",
   "id": "a5ec6b3f-0888-444c-9a7d-ad535a9d8884",
   "metadata": {},
   "source": [
    "# Basic code"
   ]
  },
  {
   "cell_type": "code",
   "execution_count": 2,
   "id": "424de761-47f7-464a-ab04-d91ffe9711af",
   "metadata": {},
   "outputs": [
    {
     "name": "stdout",
     "output_type": "stream",
     "text": [
      "5\n"
     ]
    }
   ],
   "source": [
    "print(3+2)"
   ]
  },
  {
   "cell_type": "code",
   "execution_count": 4,
   "id": "0c129db1-42d2-40dc-b847-2555aacdfcc2",
   "metadata": {},
   "outputs": [
    {
     "name": "stdout",
     "output_type": "stream",
     "text": [
      "1\n"
     ]
    }
   ],
   "source": [
    "print(3-2)"
   ]
  },
  {
   "cell_type": "code",
   "execution_count": 6,
   "id": "b2e06c3a-fbb5-45d6-bf9b-3435ecc07334",
   "metadata": {},
   "outputs": [
    {
     "name": "stdout",
     "output_type": "stream",
     "text": [
      "6\n"
     ]
    }
   ],
   "source": [
    "print(3*2)\n"
   ]
  },
  {
   "cell_type": "code",
   "execution_count": 8,
   "id": "97cf7711-348a-497f-89d5-85b032e8fac9",
   "metadata": {},
   "outputs": [
    {
     "name": "stdout",
     "output_type": "stream",
     "text": [
      "1.5\n"
     ]
    }
   ],
   "source": [
    "print(3/2)"
   ]
  },
  {
   "cell_type": "code",
   "execution_count": 10,
   "id": "b5ed4446-2934-4295-927d-ef48849f1f62",
   "metadata": {},
   "outputs": [
    {
     "name": "stdout",
     "output_type": "stream",
     "text": [
      "9\n"
     ]
    }
   ],
   "source": [
    "print(3**2)"
   ]
  },
  {
   "cell_type": "code",
   "execution_count": 18,
   "id": "49196b07-8ef7-4318-ad65-3c45e469a748",
   "metadata": {},
   "outputs": [
    {
     "name": "stdout",
     "output_type": "stream",
     "text": [
      "0\n"
     ]
    }
   ],
   "source": [
    "print(42%2)"
   ]
  },
  {
   "cell_type": "code",
   "execution_count": 16,
   "id": "0629fe6a-d35b-44c5-b476-2d7c01bec934",
   "metadata": {},
   "outputs": [
    {
     "name": "stdout",
     "output_type": "stream",
     "text": [
      "21\n"
     ]
    }
   ],
   "source": [
    "print(42//2)"
   ]
  },
  {
   "cell_type": "markdown",
   "id": "cd6244b9-186c-4a77-87de-3495d5534b97",
   "metadata": {},
   "source": [
    "# Checking Data types "
   ]
  },
  {
   "cell_type": "code",
   "execution_count": 24,
   "id": "8d327353-8ee7-4563-81ea-c395169ababe",
   "metadata": {},
   "outputs": [
    {
     "name": "stdout",
     "output_type": "stream",
     "text": [
      "<class 'int'>\n"
     ]
    }
   ],
   "source": [
    "print(type(10))"
   ]
  },
  {
   "cell_type": "code",
   "execution_count": 26,
   "id": "62f598c5-15fa-4c05-a2b2-1ece33c64ccd",
   "metadata": {},
   "outputs": [
    {
     "name": "stdout",
     "output_type": "stream",
     "text": [
      "<class 'float'>\n"
     ]
    }
   ],
   "source": [
    "print(type(3.14))"
   ]
  },
  {
   "cell_type": "code",
   "execution_count": 28,
   "id": "dc55556e-1d45-4954-8605-580abe2594d4",
   "metadata": {},
   "outputs": [
    {
     "name": "stdout",
     "output_type": "stream",
     "text": [
      "<class 'complex'>\n"
     ]
    }
   ],
   "source": [
    "print(type(1+3j))"
   ]
  },
  {
   "cell_type": "code",
   "execution_count": 30,
   "id": "d969cccf-080d-4d08-b55a-132b42f7210a",
   "metadata": {},
   "outputs": [
    {
     "name": "stdout",
     "output_type": "stream",
     "text": [
      "<class 'str'>\n"
     ]
    }
   ],
   "source": [
    "print(type('rima'))"
   ]
  },
  {
   "cell_type": "code",
   "execution_count": 32,
   "id": "f9bfb56b-1c8c-46a9-b750-70564cac4b37",
   "metadata": {},
   "outputs": [
    {
     "name": "stdout",
     "output_type": "stream",
     "text": [
      "<class 'list'>\n"
     ]
    }
   ],
   "source": [
    "print(type([1,2,3]))"
   ]
  },
  {
   "cell_type": "code",
   "execution_count": 34,
   "id": "9db726bb-7e45-4fe8-89f7-8a8a7b75a924",
   "metadata": {},
   "outputs": [
    {
     "name": "stdout",
     "output_type": "stream",
     "text": [
      "<class 'dict'>\n"
     ]
    }
   ],
   "source": [
    "print(type({'name' : 'rima'}))"
   ]
  },
  {
   "cell_type": "code",
   "execution_count": 36,
   "id": "58da6f1b-7c6e-479a-8421-805744b3507b",
   "metadata": {},
   "outputs": [
    {
     "name": "stdout",
     "output_type": "stream",
     "text": [
      "<class 'set'>\n"
     ]
    }
   ],
   "source": [
    "print(type({3.4,4.8,6.8}))"
   ]
  },
  {
   "cell_type": "code",
   "execution_count": 38,
   "id": "3cb8107c-e71a-459f-8f97-580297198a65",
   "metadata": {},
   "outputs": [
    {
     "name": "stdout",
     "output_type": "stream",
     "text": [
      "<class 'tuple'>\n"
     ]
    }
   ],
   "source": [
    "print(type((9.8,3.4, 6.9)))"
   ]
  },
  {
   "cell_type": "code",
   "execution_count": 40,
   "id": "e7fa2320-f118-419c-9897-1ccf9404151b",
   "metadata": {},
   "outputs": [
    {
     "name": "stdout",
     "output_type": "stream",
     "text": [
      "<class 'bool'>\n"
     ]
    }
   ],
   "source": [
    "print(type(3==3))"
   ]
  },
  {
   "cell_type": "code",
   "execution_count": 42,
   "id": "eb18cb43-1260-4c74-b6e6-89f4d6dc2cc0",
   "metadata": {},
   "outputs": [
    {
     "name": "stdout",
     "output_type": "stream",
     "text": [
      "<class 'bool'>\n"
     ]
    }
   ],
   "source": [
    "print(type(3>=3))"
   ]
  },
  {
   "cell_type": "code",
   "execution_count": null,
   "id": "a6a4566c-2810-4c46-97b4-05d9508309a4",
   "metadata": {},
   "outputs": [],
   "source": []
  }
 ],
 "metadata": {
  "kernelspec": {
   "display_name": "Python 3 (ipykernel)",
   "language": "python",
   "name": "python3"
  },
  "language_info": {
   "codemirror_mode": {
    "name": "ipython",
    "version": 3
   },
   "file_extension": ".py",
   "mimetype": "text/x-python",
   "name": "python",
   "nbconvert_exporter": "python",
   "pygments_lexer": "ipython3",
   "version": "3.12.7"
  }
 },
 "nbformat": 4,
 "nbformat_minor": 5
}
