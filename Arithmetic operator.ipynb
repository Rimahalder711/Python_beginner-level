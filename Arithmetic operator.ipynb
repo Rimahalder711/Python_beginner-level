{
 "cells": [
  {
   "cell_type": "markdown",
   "id": "85938ec0-6afe-49f0-81b2-0b1fcc30db69",
   "metadata": {},
   "source": [
    "# Arithmetic operator in python"
   ]
  },
  {
   "cell_type": "markdown",
   "id": "a58b3765-7dc6-4ebf-8d77-fb6aa8831ad6",
   "metadata": {},
   "source": [
    "## Integers"
   ]
  },
  {
   "cell_type": "code",
   "execution_count": 3,
   "id": "670e36ca-8efc-4baa-ad07-ed820807f487",
   "metadata": {},
   "outputs": [
    {
     "name": "stdout",
     "output_type": "stream",
     "text": [
      "Addition:  3\n",
      "Subtraction:  1\n",
      "Multiplication:  6\n",
      "Division:  2.0\n",
      "Division:  3.0\n",
      "Division:  3.5\n",
      "Division without the remainder:  3\n",
      "Modulus:  1\n",
      "Division without the remainder:  2\n",
      "Exponential:  9\n"
     ]
    }
   ],
   "source": [
    "print('Addition: ', 1 + 2)\n",
    "print('Subtraction: ', 2 - 1)\n",
    "print('Multiplication: ', 2 * 3)\n",
    "print ('Division: ', 4 / 2)                         # Division in python gives floating number\n",
    "print('Division: ', 6 / 2)\n",
    "print('Division: ', 7 / 2)\n",
    "print('Division without the remainder: ', 7 // 2)   # gives without the floating number or without the remaining\n",
    "print('Modulus: ', 3 % 2)                           # Gives the remainder\n",
    "print ('Division without the remainder: ', 7 // 3)\n",
    "print('Exponential: ', 3 ** 2)                     # it means 3 * 3"
   ]
  },
  {
   "cell_type": "markdown",
   "id": "ca948b47-8dc5-4e8d-b048-4eb3a5bc325e",
   "metadata": {},
   "source": [
    "## Floating numbers"
   ]
  },
  {
   "cell_type": "code",
   "execution_count": 6,
   "id": "6a647503-6a3b-41af-9961-e2705e62bcf4",
   "metadata": {},
   "outputs": [
    {
     "name": "stdout",
     "output_type": "stream",
     "text": [
      "Floating Number,PI 3.14\n",
      "Floating Number, gravity 9.81\n"
     ]
    }
   ],
   "source": [
    "print('Floating Number,PI', 3.14)\n",
    "print('Floating Number, gravity', 9.81)"
   ]
  },
  {
   "cell_type": "markdown",
   "id": "08f766f6-beba-423b-b8c4-3e3d9928ebb1",
   "metadata": {},
   "source": [
    "## Complex numbers"
   ]
  },
  {
   "cell_type": "code",
   "execution_count": 9,
   "id": "ebb70d52-56b4-4f49-b4d3-ae43d59ec7dc",
   "metadata": {},
   "outputs": [
    {
     "name": "stdout",
     "output_type": "stream",
     "text": [
      "Complex number:  (1+1j)\n",
      "Multiplying complex number:  (2+0j)\n"
     ]
    }
   ],
   "source": [
    "print('Complex number: ', 1 + 1j)\n",
    "print('Multiplying complex number: ',(1 + 1j) * (1-1j))"
   ]
  },
  {
   "cell_type": "markdown",
   "id": "d0da47e8-1bf6-4da4-8272-9b401d6f490b",
   "metadata": {},
   "source": [
    "## Declaring the variable at the top first"
   ]
  },
  {
   "cell_type": "code",
   "execution_count": 12,
   "id": "3b266e1a-8355-4c21-90e9-20f5d4bb8c6e",
   "metadata": {},
   "outputs": [],
   "source": [
    "a = 3 # a is a variable name and 3 is an integer data type\n",
    "b = 2 # b is a variable name and 3 is an integer data type"
   ]
  },
  {
   "cell_type": "code",
   "execution_count": 14,
   "id": "616d3c41-92a9-40c0-80d9-320924105201",
   "metadata": {},
   "outputs": [],
   "source": [
    "# Arithmetic operations and assigning the result to a variable\n",
    "total = a + b\n",
    "diff = a - b\n",
    "product = a * b\n",
    "division = a / b\n",
    "remainder = a % b\n",
    "floor_division = a // b\n",
    "exponential = a ** b"
   ]
  },
  {
   "cell_type": "code",
   "execution_count": 16,
   "id": "0332a2c8-6325-4fff-b853-1c52a05b29d3",
   "metadata": {},
   "outputs": [
    {
     "name": "stdout",
     "output_type": "stream",
     "text": [
      "5\n",
      "a + b =  5\n",
      "a - b =  1\n",
      "a * b =  6\n",
      "a / b =  1.5\n",
      "a % b =  1\n",
      "a // b =  1\n",
      "a ** b =  9\n"
     ]
    }
   ],
   "source": [
    "# I should have used sum instead of total but sum is a built-in function try to avoid overriding builtin functions\n",
    "print(total) # if you don't label your print with some string, you never know from where is  the result is coming\n",
    "print('a + b = ', total)\n",
    "print('a - b = ', diff)\n",
    "print('a * b = ', product)\n",
    "print('a / b = ', division)\n",
    "print('a % b = ', remainder)\n",
    "print('a // b = ', floor_division)\n",
    "print('a ** b = ', exponential)"
   ]
  },
  {
   "cell_type": "markdown",
   "id": "27f95553-afa1-4878-8fbd-1b81a60dfd3a",
   "metadata": {},
   "source": [
    "## Declaring values and organizing them together"
   ]
  },
  {
   "cell_type": "code",
   "execution_count": 23,
   "id": "57501b0e-8f1e-45a2-87da-8da7703aeca9",
   "metadata": {},
   "outputs": [],
   "source": [
    "num_one = 3\n",
    "num_two = 4\n",
    "\n",
    "# Arithmetic operations\n",
    "total = num_one + num_two\n",
    "diff = num_two - num_one\n",
    "product = num_one * num_two\n",
    "div = num_two / num_two\n",
    "remainder = num_two % num_one"
   ]
  },
  {
   "cell_type": "code",
   "execution_count": 25,
   "id": "558dc0d7-9beb-476d-ace8-2e7ce2173697",
   "metadata": {},
   "outputs": [
    {
     "name": "stdout",
     "output_type": "stream",
     "text": [
      "total:  7\n",
      "difference:  1\n",
      "product:  12\n",
      "division:  1.0\n",
      "remainder:  1\n"
     ]
    }
   ],
   "source": [
    "# Printing values with label\n",
    "print('total: ', total)\n",
    "print('difference: ', diff)\n",
    "print('product: ', product)\n",
    "print('division: ', div)\n",
    "print('remainder: ', remainder)\n"
   ]
  },
  {
   "cell_type": "markdown",
   "id": "7ee4b1dc-53d2-4439-a532-0cb84d2bd898",
   "metadata": {},
   "source": [
    "### Calculating area of a circle"
   ]
  },
  {
   "cell_type": "code",
   "execution_count": 28,
   "id": "8922e654-5098-4e38-84fb-3cd34581a7e9",
   "metadata": {},
   "outputs": [
    {
     "name": "stdout",
     "output_type": "stream",
     "text": [
      "Area of a circle: 314.0\n"
     ]
    }
   ],
   "source": [
    "radius = 10                                 # radius of a circle\n",
    "area_of_circle = 3.14 * radius ** 2         # two * sign means exponent or power\n",
    "print('Area of a circle:', area_of_circle)\n"
   ]
  },
  {
   "cell_type": "markdown",
   "id": "7c844b56-7c2d-408f-a8f3-0babdf80f41b",
   "metadata": {},
   "source": [
    "### Calculating area of a rectangle"
   ]
  },
  {
   "cell_type": "code",
   "execution_count": 31,
   "id": "01d36119-9971-4904-81b0-a3cb68bb4b06",
   "metadata": {},
   "outputs": [
    {
     "name": "stdout",
     "output_type": "stream",
     "text": [
      "Area of rectangle: 200\n"
     ]
    }
   ],
   "source": [
    "length = 10\n",
    "width = 20\n",
    "area_of_rectangle = length * width\n",
    "print('Area of rectangle:', area_of_rectangle)"
   ]
  },
  {
   "cell_type": "markdown",
   "id": "d0ee4437-6251-45ba-bb35-6d098cc39a1c",
   "metadata": {},
   "source": [
    "### Calculating a weight of an object"
   ]
  },
  {
   "cell_type": "code",
   "execution_count": 34,
   "id": "b8efe0e1-2325-41f3-a471-61cc8fbd8e65",
   "metadata": {},
   "outputs": [
    {
     "name": "stdout",
     "output_type": "stream",
     "text": [
      "735.75 N\n"
     ]
    }
   ],
   "source": [
    "mass = 75\n",
    "gravity = 9.81\n",
    "weight = mass * gravity\n",
    "print(weight, 'N')\n"
   ]
  },
  {
   "cell_type": "code",
   "execution_count": 39,
   "id": "0b3863b6-712a-435d-a85a-699ed18af6d3",
   "metadata": {},
   "outputs": [
    {
     "name": "stdout",
     "output_type": "stream",
     "text": [
      "True\n",
      "True\n",
      "False\n",
      "True\n",
      "True\n",
      "False\n",
      "True\n",
      "False\n",
      "True\n",
      "True\n",
      "False\n",
      "True\n",
      "True\n",
      "False\n"
     ]
    }
   ],
   "source": [
    "print(3 > 2)                           # True, because 3 is greater than 2\n",
    "print(3 >= 2)                          # True, because 3 is greater than 2\n",
    "print(3 < 2)                           # False,  because 3 is greater than 2\n",
    "print(2 < 3)                           # True, because 2 is less than 3\n",
    "print(2 <= 3)                          # True, because 2 is less than 3\n",
    "print(3 == 2)                          # False, because 3 is not equal to 2\n",
    "print(3 != 2)                          # True, because 3 is not equal to 2\n",
    "print(len('mango') == len('avocado'))  # False\n",
    "print(len('mango') != len('avocado'))  # True\n",
    "print(len('mango') < len('avocado'))   # True\n",
    "print(len('milk') != len('meat'))      # False\n",
    "print(len('milk') == len('meat'))      # True\n",
    "print(len('tomato') == len('potato'))  # True\n",
    "print(len('python') > len('dragon'))   # False\n"
   ]
  },
  {
   "cell_type": "markdown",
   "id": "b1388067-141f-407a-addf-186cbcc9facf",
   "metadata": {},
   "source": [
    "# Boolean comparison"
   ]
  },
  {
   "cell_type": "code",
   "execution_count": 42,
   "id": "eac1950e-4a9c-4309-96a6-4e7edfd93c7d",
   "metadata": {},
   "outputs": [
    {
     "name": "stdout",
     "output_type": "stream",
     "text": [
      "True == True:  True\n",
      "True == False:  False\n",
      "False == False: True\n",
      "True and True:  True\n",
      "True or False: True\n"
     ]
    }
   ],
   "source": [
    "print('True == True: ', True == True)\n",
    "print('True == False: ', True == False)\n",
    "print('False == False:', False == False)\n",
    "print('True and True: ', True and True)\n",
    "print('True or False:', True or False)"
   ]
  },
  {
   "cell_type": "markdown",
   "id": "ba91e9e1-49ef-449b-90a5-b23493441337",
   "metadata": {},
   "source": [
    "# Another way comparison"
   ]
  },
  {
   "cell_type": "code",
   "execution_count": 53,
   "id": "6d395028-780e-48f3-9ddb-97ce887874c6",
   "metadata": {},
   "outputs": [
    {
     "name": "stdout",
     "output_type": "stream",
     "text": [
      "1 is 1 True\n",
      "1 is not 2 True\n",
      "R in Rima True\n",
      "B in Rima False\n",
      "True\n",
      "a in an: True\n",
      "4 is 2 ** 2: True\n"
     ]
    },
    {
     "name": "stderr",
     "output_type": "stream",
     "text": [
      "<>:1: SyntaxWarning: \"is\" with 'int' literal. Did you mean \"==\"?\n",
      "<>:2: SyntaxWarning: \"is not\" with 'int' literal. Did you mean \"!=\"?\n",
      "<>:7: SyntaxWarning: \"is\" with 'int' literal. Did you mean \"==\"?\n",
      "<>:1: SyntaxWarning: \"is\" with 'int' literal. Did you mean \"==\"?\n",
      "<>:2: SyntaxWarning: \"is not\" with 'int' literal. Did you mean \"!=\"?\n",
      "<>:7: SyntaxWarning: \"is\" with 'int' literal. Did you mean \"==\"?\n",
      "C:\\Users\\COM\\AppData\\Local\\Temp\\ipykernel_1548\\3897421186.py:1: SyntaxWarning: \"is\" with 'int' literal. Did you mean \"==\"?\n",
      "  print('1 is 1', 1 is 1)                        # True - because the data values are the same\n",
      "C:\\Users\\COM\\AppData\\Local\\Temp\\ipykernel_1548\\3897421186.py:2: SyntaxWarning: \"is not\" with 'int' literal. Did you mean \"!=\"?\n",
      "  print('1 is not 2', 1 is not 2)                # True - because 1 is not 2\n",
      "C:\\Users\\COM\\AppData\\Local\\Temp\\ipykernel_1548\\3897421186.py:7: SyntaxWarning: \"is\" with 'int' literal. Did you mean \"==\"?\n",
      "  print('4 is 2 ** 2:', 4 is 2 ** 2)             # True\n"
     ]
    }
   ],
   "source": [
    "print('1 is 1', 1 is 1)                        # True - because the data values are the same\n",
    "print('1 is not 2', 1 is not 2)                # True - because 1 is not 2\n",
    "print('R in Rima', 'R' in 'Rima')              # True - R found in the string\n",
    "print('B in Rima', 'B' in 'Rima')              # False -there is no uppercase B\n",
    "print('coding' in 'coding for all')            # True - because coding for all has the word coding\n",
    "print('a in an:', 'a' in 'an')                 # True\n",
    "print('4 is 2 ** 2:', 4 is 2 ** 2)             # True"
   ]
  },
  {
   "cell_type": "code",
   "execution_count": 55,
   "id": "e001f616-3f6d-4683-a889-a4a02dedf9ac",
   "metadata": {},
   "outputs": [
    {
     "name": "stdout",
     "output_type": "stream",
     "text": [
      "True\n",
      "False\n",
      "False\n",
      "True\n",
      "True\n",
      "False\n",
      "False\n",
      "False\n",
      "True\n",
      "True\n",
      "False\n"
     ]
    }
   ],
   "source": [
    "print(3 > 2 and 4 > 3)        # True - because both statements are true\n",
    "print(3 > 2 and 4 < 3)        # False - because the second statement is false\n",
    "print(3 < 2 and 4 < 3)        # False - because both statements are false\n",
    "print(3 > 2 or 4 > 3)         # True - because both statements are true\n",
    "print(3 > 2 or 4 < 3)         # True - because one of the statement is true\n",
    "print(3 < 2 or 4 < 3)         # False - because both statements are false\n",
    "print(not 3 > 2)              # False - because 3 > 2 is true, then not True gives False\n",
    "print(not True)               # False - Negation, the not operator turns true to false\n",
    "print(not False)              # True\n",
    "print(not not True)           # True\n",
    "print(not not False)          # False"
   ]
  },
  {
   "cell_type": "code",
   "execution_count": null,
   "id": "d750f265-5098-4ea1-b731-de210924bb34",
   "metadata": {},
   "outputs": [],
   "source": []
  }
 ],
 "metadata": {
  "kernelspec": {
   "display_name": "Python 3 (ipykernel)",
   "language": "python",
   "name": "python3"
  },
  "language_info": {
   "codemirror_mode": {
    "name": "ipython",
    "version": 3
   },
   "file_extension": ".py",
   "mimetype": "text/x-python",
   "name": "python",
   "nbconvert_exporter": "python",
   "pygments_lexer": "ipython3",
   "version": "3.12.7"
  }
 },
 "nbformat": 4,
 "nbformat_minor": 5
}
