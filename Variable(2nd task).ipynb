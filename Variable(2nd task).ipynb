{
 "cells": [
  {
   "cell_type": "markdown",
   "id": "c17365bd-bc20-434a-8876-a67b0e063fa8",
   "metadata": {},
   "source": [
    "# Variables in python"
   ]
  },
  {
   "cell_type": "code",
   "execution_count": 20,
   "id": "c743e6e4-e550-46e7-8c97-afb4b7991580",
   "metadata": {},
   "outputs": [],
   "source": [
    "first_name = 'Rima'"
   ]
  },
  {
   "cell_type": "code",
   "execution_count": 22,
   "id": "a0a33dde-9965-482d-8526-0df66bc49fc5",
   "metadata": {},
   "outputs": [],
   "source": [
    "last_name = 'Halder'"
   ]
  },
  {
   "cell_type": "code",
   "execution_count": 24,
   "id": "19429ba1-12f0-4bc5-952b-b936d5abbefa",
   "metadata": {},
   "outputs": [],
   "source": [
    "country = 'India'"
   ]
  },
  {
   "cell_type": "code",
   "execution_count": 26,
   "id": "f1408305-cace-427b-bc3a-86b33c28dc77",
   "metadata": {},
   "outputs": [],
   "source": [
    "city = 'WB'"
   ]
  },
  {
   "cell_type": "code",
   "execution_count": 28,
   "id": "771fd78c-658f-4e40-a0f3-e6a03fcdc7ac",
   "metadata": {},
   "outputs": [],
   "source": [
    "age = 55"
   ]
  },
  {
   "cell_type": "code",
   "execution_count": 30,
   "id": "ecd3342a-d787-4012-a400-3e877db309fe",
   "metadata": {},
   "outputs": [],
   "source": [
    "is_married = False "
   ]
  },
  {
   "cell_type": "code",
   "execution_count": 32,
   "id": "3e5dedce-0f0a-44d3-945d-5cf35c2f5322",
   "metadata": {},
   "outputs": [],
   "source": [
    "skills = [ 'HTML', 'CSS' , 'C+', 'C++' ,  'Python' ]"
   ]
  },
  {
   "cell_type": "code",
   "execution_count": 61,
   "id": "3ed9b2c8-9089-4a62-8a60-3bbead46d1af",
   "metadata": {},
   "outputs": [],
   "source": [
    "person_info = {\n",
    "    'firstname':'Rima', \n",
    "    'lastname':'Halder', \n",
    "    'country':'India',\n",
    "    'city':'Wb'\n",
    "    }"
   ]
  },
  {
   "cell_type": "markdown",
   "id": "303d29b8-3976-452c-bd1e-48add35e3c60",
   "metadata": {},
   "source": [
    "# Printing the values stored in the variables"
   ]
  },
  {
   "cell_type": "code",
   "execution_count": 37,
   "id": "b6182628-e645-43d9-8758-2a93d0191109",
   "metadata": {},
   "outputs": [
    {
     "name": "stdout",
     "output_type": "stream",
     "text": [
      " First name : Rima\n"
     ]
    }
   ],
   "source": [
    "print(' First name :', first_name)"
   ]
  },
  {
   "cell_type": "code",
   "execution_count": 41,
   "id": "95de79a9-b4bb-4a94-95a5-1e20bb01b952",
   "metadata": {},
   "outputs": [
    {
     "name": "stdout",
     "output_type": "stream",
     "text": [
      "First name length: 4\n"
     ]
    }
   ],
   "source": [
    "print('First name length:' , len(first_name))"
   ]
  },
  {
   "cell_type": "code",
   "execution_count": 39,
   "id": "24a12517-b3bc-4048-8594-1e06202679ab",
   "metadata": {},
   "outputs": [
    {
     "name": "stdout",
     "output_type": "stream",
     "text": [
      "Last name : Halder\n"
     ]
    }
   ],
   "source": [
    "print('Last name :' , last_name)"
   ]
  },
  {
   "cell_type": "code",
   "execution_count": 43,
   "id": "fe70f720-b254-4102-8ead-95c07dbb7d54",
   "metadata": {},
   "outputs": [
    {
     "name": "stdout",
     "output_type": "stream",
     "text": [
      "Last name length 6\n"
     ]
    }
   ],
   "source": [
    "print('Last name length', len(last_name))"
   ]
  },
  {
   "cell_type": "code",
   "execution_count": 45,
   "id": "61f7fe1c-967b-4afc-8691-1cc06531a076",
   "metadata": {},
   "outputs": [
    {
     "name": "stdout",
     "output_type": "stream",
     "text": [
      "Country:  India\n"
     ]
    }
   ],
   "source": [
    "print('Country: ', country)"
   ]
  },
  {
   "cell_type": "code",
   "execution_count": 47,
   "id": "aee85517-28a1-4491-89c8-1c0aa8913d12",
   "metadata": {},
   "outputs": [
    {
     "name": "stdout",
     "output_type": "stream",
     "text": [
      "City:  WB\n"
     ]
    }
   ],
   "source": [
    "print('City: ', city)"
   ]
  },
  {
   "cell_type": "code",
   "execution_count": 49,
   "id": "af3d38a9-5c84-45e0-a578-65dca5b14f8a",
   "metadata": {},
   "outputs": [
    {
     "name": "stdout",
     "output_type": "stream",
     "text": [
      "Age:  55\n"
     ]
    }
   ],
   "source": [
    "print('Age: ', age)"
   ]
  },
  {
   "cell_type": "code",
   "execution_count": 51,
   "id": "95de34a6-0b29-4111-9443-58f30975af42",
   "metadata": {},
   "outputs": [
    {
     "name": "stdout",
     "output_type": "stream",
     "text": [
      "Married:  False\n"
     ]
    }
   ],
   "source": [
    "print('Married: ', is_married)"
   ]
  },
  {
   "cell_type": "code",
   "execution_count": 53,
   "id": "379c5646-1bdb-4ae5-b2c5-0f5b9832fa8f",
   "metadata": {},
   "outputs": [
    {
     "name": "stdout",
     "output_type": "stream",
     "text": [
      "Skills:  ['HTML', 'CSS', 'C+', 'C++', 'Python']\n"
     ]
    }
   ],
   "source": [
    "print('Skills: ', skills)"
   ]
  },
  {
   "cell_type": "code",
   "execution_count": 63,
   "id": "00b9213b-651d-43b6-af90-17a2c2c49911",
   "metadata": {},
   "outputs": [
    {
     "name": "stdout",
     "output_type": "stream",
     "text": [
      "Person information:  {'firstname': 'Rima', 'lastname': 'Halder', 'country': 'India', 'city': 'Wb'}\n"
     ]
    }
   ],
   "source": [
    "print('Person information: ', person_info)"
   ]
  },
  {
   "cell_type": "markdown",
   "id": "3e22fc12-ff5a-4b53-aa85-d98753971412",
   "metadata": {},
   "source": [
    "# Declaring multiple variables in one line"
   ]
  },
  {
   "cell_type": "code",
   "execution_count": null,
   "id": "3327483b-c00f-4c67-9297-3c56b742bff8",
   "metadata": {},
   "outputs": [],
   "source": [
    "first_name, last_name, country, age, is_married = 'Rima', 'Halder', 'India', 55, False"
   ]
  },
  {
   "cell_type": "code",
   "execution_count": 68,
   "id": "825f14ef-e48b-4343-802f-80cb2a83545e",
   "metadata": {},
   "outputs": [
    {
     "name": "stdout",
     "output_type": "stream",
     "text": [
      "Rima Halder India 55 False\n"
     ]
    }
   ],
   "source": [
    "print(first_name, last_name, country, age, is_married)"
   ]
  },
  {
   "cell_type": "code",
   "execution_count": 70,
   "id": "6ce31b8b-5367-4445-b6e2-f6aab553a1d9",
   "metadata": {},
   "outputs": [
    {
     "name": "stdout",
     "output_type": "stream",
     "text": [
      "First name: Rima\n"
     ]
    }
   ],
   "source": [
    "print('First name:', first_name)"
   ]
  },
  {
   "cell_type": "code",
   "execution_count": 72,
   "id": "e03f7d27-3a71-43b1-98ee-f19edb9603fe",
   "metadata": {},
   "outputs": [
    {
     "name": "stdout",
     "output_type": "stream",
     "text": [
      "Last name:  Halder\n"
     ]
    }
   ],
   "source": [
    "print('Last name: ', last_name)"
   ]
  },
  {
   "cell_type": "code",
   "execution_count": 74,
   "id": "81ed9283-42ae-4f74-af93-c7dd256653a0",
   "metadata": {},
   "outputs": [
    {
     "name": "stdout",
     "output_type": "stream",
     "text": [
      "Country:  India\n"
     ]
    }
   ],
   "source": [
    "print('Country: ', country)"
   ]
  },
  {
   "cell_type": "code",
   "execution_count": 76,
   "id": "c82bd8f9-e307-4542-adbb-adf796cd075e",
   "metadata": {},
   "outputs": [
    {
     "name": "stdout",
     "output_type": "stream",
     "text": [
      "Age:  55\n"
     ]
    }
   ],
   "source": [
    "print('Age: ', age)"
   ]
  },
  {
   "cell_type": "code",
   "execution_count": 78,
   "id": "8aebc132-c168-4433-9795-0e358f5b0ef2",
   "metadata": {},
   "outputs": [
    {
     "name": "stdout",
     "output_type": "stream",
     "text": [
      "Married:  False\n"
     ]
    }
   ],
   "source": [
    "print('Married: ', is_married)"
   ]
  }
 ],
 "metadata": {
  "kernelspec": {
   "display_name": "Python 3 (ipykernel)",
   "language": "python",
   "name": "python3"
  },
  "language_info": {
   "codemirror_mode": {
    "name": "ipython",
    "version": 3
   },
   "file_extension": ".py",
   "mimetype": "text/x-python",
   "name": "python",
   "nbconvert_exporter": "python",
   "pygments_lexer": "ipython3",
   "version": "3.12.7"
  }
 },
 "nbformat": 4,
 "nbformat_minor": 5
}
