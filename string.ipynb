{
 "cells": [
  {
   "cell_type": "markdown",
   "id": "0ab53c65-e435-41c3-879a-1f44c1497b2a",
   "metadata": {},
   "source": [
    "# Single line comment"
   ]
  },
  {
   "cell_type": "code",
   "execution_count": 5,
   "id": "05e40d84-df03-40c3-a680-fd4132bcaac2",
   "metadata": {},
   "outputs": [],
   "source": [
    "letter = 'P'  # A string could be a single character or a bunch of texts"
   ]
  },
  {
   "cell_type": "code",
   "execution_count": 7,
   "id": "8ad8ef5f-fdb6-4265-99a8-e253b1055756",
   "metadata": {},
   "outputs": [
    {
     "name": "stdout",
     "output_type": "stream",
     "text": [
      "P\n"
     ]
    }
   ],
   "source": [
    "print(letter)"
   ]
  },
  {
   "cell_type": "code",
   "execution_count": 9,
   "id": "2bc8b88a-9caa-440e-a45b-0800f8e3a14e",
   "metadata": {},
   "outputs": [
    {
     "name": "stdout",
     "output_type": "stream",
     "text": [
      "1\n"
     ]
    }
   ],
   "source": [
    "print(len(letter))"
   ]
  },
  {
   "cell_type": "code",
   "execution_count": 11,
   "id": "f136ca9b-47c5-4805-9654-3aff96cfbf41",
   "metadata": {},
   "outputs": [],
   "source": [
    "greeting = 'Hello, World!'  # String could be  a single or double quote,\"Hello, World!\""
   ]
  },
  {
   "cell_type": "code",
   "execution_count": 13,
   "id": "475722e7-d2c4-40ac-9da7-388047580997",
   "metadata": {},
   "outputs": [
    {
     "name": "stdout",
     "output_type": "stream",
     "text": [
      "Hello, World!\n"
     ]
    }
   ],
   "source": [
    "print(greeting)"
   ]
  },
  {
   "cell_type": "code",
   "execution_count": 15,
   "id": "c0dcc5a9-285b-4d83-b63f-88383a8b30ea",
   "metadata": {},
   "outputs": [
    {
     "name": "stdout",
     "output_type": "stream",
     "text": [
      "13\n"
     ]
    }
   ],
   "source": [
    "print(len(greeting))"
   ]
  },
  {
   "cell_type": "code",
   "execution_count": 17,
   "id": "ef8fd83c-6db0-4f2f-9e3e-e2137d0b15b6",
   "metadata": {},
   "outputs": [],
   "source": [
    "sentence = \"I hope you are enjoying 30 days of python challenge\""
   ]
  },
  {
   "cell_type": "code",
   "execution_count": 19,
   "id": "bfd4d450-ffc0-46c7-98be-aa1846acaad1",
   "metadata": {},
   "outputs": [
    {
     "name": "stdout",
     "output_type": "stream",
     "text": [
      "I hope you are enjoying 30 days of python challenge\n"
     ]
    }
   ],
   "source": [
    "print(sentence)"
   ]
  },
  {
   "cell_type": "markdown",
   "id": "dfb2972e-f8db-4ab4-9317-6ff74dfc4206",
   "metadata": {},
   "source": [
    "# Multiline String"
   ]
  },
  {
   "cell_type": "code",
   "execution_count": 24,
   "id": "81a3c325-7628-45dd-97e3-a797977bcc8e",
   "metadata": {},
   "outputs": [],
   "source": [
    "multiline_string = '''I am a teacher and enjoy teaching.\n",
    "I didn't find anything as rewarding as empowering people.\n",
    "That is why I created 30 days of python.'''"
   ]
  },
  {
   "cell_type": "code",
   "execution_count": 26,
   "id": "558d14d8-8ca0-42fc-ad9c-90a5e2fc9b22",
   "metadata": {},
   "outputs": [
    {
     "name": "stdout",
     "output_type": "stream",
     "text": [
      "I am a teacher and enjoy teaching.\n",
      "I didn't find anything as rewarding as empowering people.\n",
      "That is why I created 30 days of python.\n"
     ]
    }
   ],
   "source": [
    "print(multiline_string)"
   ]
  },
  {
   "cell_type": "code",
   "execution_count": null,
   "id": "34cf9f33-3692-48c4-aab6-b9532cb1b394",
   "metadata": {},
   "outputs": [],
   "source": []
  },
  {
   "cell_type": "markdown",
   "id": "8721f3fd-6db7-4e2e-837b-292b22682e9b",
   "metadata": {},
   "source": [
    "#### Another way of doing the same thing"
   ]
  },
  {
   "cell_type": "code",
   "execution_count": 30,
   "id": "c7ed32f4-da0d-4a0b-9709-cfcee2d40240",
   "metadata": {},
   "outputs": [],
   "source": [
    "multiline_string = \"\"\"I am a teacher and enjoy teaching.\n",
    "I didn't find anything as rewarding as empowering people.\n",
    "That is why I created 30 days of python.\"\"\""
   ]
  },
  {
   "cell_type": "code",
   "execution_count": 34,
   "id": "9e7f5839-edbe-42e6-85bc-a8bf95a99ec5",
   "metadata": {},
   "outputs": [
    {
     "name": "stdout",
     "output_type": "stream",
     "text": [
      "I am a teacher and enjoy teaching.\n",
      "I didn't find anything as rewarding as empowering people.\n",
      "That is why I created 30 days of python.\n"
     ]
    }
   ],
   "source": [
    "print(multiline_string)"
   ]
  },
  {
   "cell_type": "markdown",
   "id": "16fd9db0-5561-42aa-96e5-cc5b08175a6d",
   "metadata": {},
   "source": [
    "# String Concatenation"
   ]
  },
  {
   "cell_type": "code",
   "execution_count": 37,
   "id": "2159c1ab-f9c6-4b98-b842-b0ac8f798c4d",
   "metadata": {},
   "outputs": [],
   "source": [
    "first_name = 'Rima'"
   ]
  },
  {
   "cell_type": "code",
   "execution_count": 39,
   "id": "f3ff59d9-cf64-4386-9207-0a82e3d9bd80",
   "metadata": {},
   "outputs": [],
   "source": [
    "last_name = 'Halder'"
   ]
  },
  {
   "cell_type": "code",
   "execution_count": 41,
   "id": "261b8a93-b044-4d17-9fc6-3eab4540d289",
   "metadata": {},
   "outputs": [],
   "source": [
    "space = ' '"
   ]
  },
  {
   "cell_type": "code",
   "execution_count": 43,
   "id": "5e7155db-6a59-4687-a840-291f28142d1f",
   "metadata": {},
   "outputs": [],
   "source": [
    "full_name = first_name  +  space + last_name"
   ]
  },
  {
   "cell_type": "code",
   "execution_count": 45,
   "id": "e0135a3b-a24c-4054-9f61-4d86dfe28969",
   "metadata": {},
   "outputs": [
    {
     "name": "stdout",
     "output_type": "stream",
     "text": [
      "Rima Halder\n"
     ]
    }
   ],
   "source": [
    "print(full_name)"
   ]
  },
  {
   "cell_type": "code",
   "execution_count": 50,
   "id": "d76a17e6-c64d-41a6-b20a-86cf7f21ef4d",
   "metadata": {},
   "outputs": [],
   "source": [
    "# Checking length of a string using len() builtin function"
   ]
  },
  {
   "cell_type": "code",
   "execution_count": 52,
   "id": "5327f2e0-4621-4790-8939-534efa95b1a9",
   "metadata": {},
   "outputs": [
    {
     "name": "stdout",
     "output_type": "stream",
     "text": [
      "4\n"
     ]
    }
   ],
   "source": [
    "print(len(first_name))"
   ]
  },
  {
   "cell_type": "code",
   "execution_count": 54,
   "id": "5143b0be-f1ed-41c5-a9bd-5f439eff2c81",
   "metadata": {},
   "outputs": [
    {
     "name": "stdout",
     "output_type": "stream",
     "text": [
      "6\n"
     ]
    }
   ],
   "source": [
    "print(len(last_name))"
   ]
  },
  {
   "cell_type": "code",
   "execution_count": 56,
   "id": "81d76be6-6b2c-4d47-82de-f82cb82fdf51",
   "metadata": {},
   "outputs": [
    {
     "name": "stdout",
     "output_type": "stream",
     "text": [
      "False\n"
     ]
    }
   ],
   "source": [
    "print(len(first_name) > len(last_name))"
   ]
  },
  {
   "cell_type": "code",
   "execution_count": 58,
   "id": "803f9ef7-e053-4409-9603-6746f8585875",
   "metadata": {},
   "outputs": [
    {
     "name": "stdout",
     "output_type": "stream",
     "text": [
      "11\n"
     ]
    }
   ],
   "source": [
    "print(len(full_name))"
   ]
  },
  {
   "cell_type": "code",
   "execution_count": null,
   "id": "02ecaaa7-4620-4a65-b4f7-92db04d3a334",
   "metadata": {},
   "outputs": [],
   "source": []
  },
  {
   "cell_type": "markdown",
   "id": "4daa4316-69a4-4858-8516-946020cc9c4b",
   "metadata": {},
   "source": [
    "### Unpacking characters"
   ]
  },
  {
   "cell_type": "code",
   "execution_count": 3,
   "id": "ad1f7921-331b-474d-a9a2-2e4226a4955a",
   "metadata": {},
   "outputs": [
    {
     "name": "stdout",
     "output_type": "stream",
     "text": [
      "P\n",
      "y\n",
      "t\n",
      "h\n",
      "o\n",
      "n\n"
     ]
    }
   ],
   "source": [
    "language = 'Python'\n",
    "a,b,c,d,e,f = language # unpacking sequence characters into variables\n",
    "print(a) \n",
    "print(b) \n",
    "print(c)\n",
    "print(d)\n",
    "print(e)\n",
    "print(f) "
   ]
  },
  {
   "cell_type": "markdown",
   "id": "c56307fb-fe26-4717-82bf-897118684bfe",
   "metadata": {},
   "source": [
    "# Accessing characters in strings by index"
   ]
  },
  {
   "cell_type": "code",
   "execution_count": 10,
   "id": "0017d290-6cc3-4a0a-a563-40980eb76566",
   "metadata": {},
   "outputs": [
    {
     "name": "stdout",
     "output_type": "stream",
     "text": [
      "P\n",
      "y\n",
      "n\n"
     ]
    }
   ],
   "source": [
    "language = 'Python'\n",
    "first_letter = language[0]\n",
    "print(first_letter) \n",
    "second_letter = language[1]\n",
    "print(second_letter) \n",
    "last_index = len(language) - 1\n",
    "last_letter = language[last_index]\n",
    "print(last_letter) "
   ]
  },
  {
   "cell_type": "code",
   "execution_count": 12,
   "id": "df86313a-c664-49aa-9b0b-770f9993e6fc",
   "metadata": {},
   "outputs": [],
   "source": [
    "# If we want to start from right end we can use negative indexing. -1 is the last index"
   ]
  },
  {
   "cell_type": "code",
   "execution_count": 14,
   "id": "ec3c3465-6fa4-40ed-8c38-13511a1fb6e5",
   "metadata": {},
   "outputs": [
    {
     "name": "stdout",
     "output_type": "stream",
     "text": [
      "n\n",
      "o\n"
     ]
    }
   ],
   "source": [
    "language = 'Python'\n",
    "last_letter = language[-1]\n",
    "print(last_letter) \n",
    "second_last = language[-2]\n",
    "print(second_last) "
   ]
  },
  {
   "cell_type": "markdown",
   "id": "231014a4-db31-400c-bc42-b2a5c40b94be",
   "metadata": {},
   "source": [
    "## Slicing"
   ]
  },
  {
   "cell_type": "code",
   "execution_count": 23,
   "id": "d53a8183-c906-427b-beec-d5593e0a3957",
   "metadata": {},
   "outputs": [
    {
     "name": "stdout",
     "output_type": "stream",
     "text": [
      "Pyt\n",
      "hon\n"
     ]
    }
   ],
   "source": [
    "language = 'Python'\n",
    "first_three = language[0:3]   # starts at zero index and up to 3 but not include 3\n",
    "last_three = language[3:6]\n",
    "print(first_three)\n",
    "print(last_three)"
   ]
  },
  {
   "cell_type": "code",
   "execution_count": 25,
   "id": "08ffa531-c2bd-4c13-90b0-3c8f22d17817",
   "metadata": {},
   "outputs": [
    {
     "name": "stdout",
     "output_type": "stream",
     "text": [
      "hon\n",
      "hon\n"
     ]
    }
   ],
   "source": [
    "last_three = language[-3:]\n",
    "print(last_three)  \n",
    "last_three = language[3:]\n",
    "print(last_three)  "
   ]
  },
  {
   "cell_type": "code",
   "execution_count": 27,
   "id": "1f9ef91f-7ed7-432b-9a5a-0d34e7beaed7",
   "metadata": {},
   "outputs": [],
   "source": [
    "# Skipping character while splitting Python strings"
   ]
  },
  {
   "cell_type": "code",
   "execution_count": 29,
   "id": "dc149510-479e-44d9-bebc-efa2d5acc6b5",
   "metadata": {},
   "outputs": [
    {
     "name": "stdout",
     "output_type": "stream",
     "text": [
      "Pto\n"
     ]
    }
   ],
   "source": [
    "language = 'Python'\n",
    "pto = language[0:6:2]\n",
    "print(pto)"
   ]
  },
  {
   "cell_type": "markdown",
   "id": "026bb319-7eb2-4e4d-b85d-fdb3621f0c5f",
   "metadata": {},
   "source": [
    "## Escape sequence"
   ]
  },
  {
   "cell_type": "code",
   "execution_count": 36,
   "id": "1fb79a30-d766-4b3b-8bfd-fe34d50ba876",
   "metadata": {},
   "outputs": [
    {
     "name": "stdout",
     "output_type": "stream",
     "text": [
      "I hope every one enjoying the python challenge.\n",
      "Do you ?\n"
     ]
    }
   ],
   "source": [
    "print('I hope every one enjoying the python challenge.\\nDo you ?') # line break"
   ]
  },
  {
   "cell_type": "code",
   "execution_count": 42,
   "id": "d312cbfd-072a-4a04-8fe2-3b496647cb6a",
   "metadata": {},
   "outputs": [
    {
     "name": "stdout",
     "output_type": "stream",
     "text": [
      "Days\tTopics\tExercises\n",
      "Day 1\t3\t5\n",
      "Day 2\t3\t5\n",
      "Day 3\t3\t5\n",
      "Day 4\t3\t5\n"
     ]
    }
   ],
   "source": [
    "print('Days\\tTopics\\tExercises')\n",
    "print('Day 1\\t3\\t5')\n",
    "print('Day 2\\t3\\t5')\n",
    "print('Day 3\\t3\\t5')\n",
    "print('Day 4\\t3\\t5')"
   ]
  },
  {
   "cell_type": "code",
   "execution_count": 77,
   "id": "11367d5f-bec0-4ea2-b752-f408c03726ba",
   "metadata": {},
   "outputs": [
    {
     "name": "stdout",
     "output_type": "stream",
     "text": [
      "This is a back slash  symbol (\\)\n",
      "In every programming language it starts with \"Hello, World!\"\n",
      "In every programming language it starts with \"Hello, World!\"\n"
     ]
    }
   ],
   "source": [
    "print('This is a back slash  symbol (\\\\)') # To write a back slash\n",
    "print('In every programming language it starts with \\\"Hello, World!\\\"')\n",
    "print('In every programming language it starts with \"Hello, World!\"')"
   ]
  },
  {
   "cell_type": "markdown",
   "id": "8837aa68-bf09-4f08-869b-36d650872d3b",
   "metadata": {},
   "source": [
    "# String Methods"
   ]
  },
  {
   "cell_type": "markdown",
   "id": "9b1d63ac-a66f-424b-aba4-dbd793746dfd",
   "metadata": {},
   "source": [
    "#### capitalize(): Converts the first character the string to Capital Letter"
   ]
  },
  {
   "cell_type": "code",
   "execution_count": 68,
   "id": "5a97f753-9597-4150-a1e6-b3c6c0b64548",
   "metadata": {},
   "outputs": [
    {
     "name": "stdout",
     "output_type": "stream",
     "text": [
      "Thirty days of python\n",
      "THIRTY DAYS OF PYTHON\n",
      "thirty days of python\n"
     ]
    }
   ],
   "source": [
    "challenge = 'thirty days of python'\n",
    "print(challenge.capitalize())\n",
    "print(challenge.upper())\n",
    "print(challenge.lower())"
   ]
  },
  {
   "cell_type": "markdown",
   "id": "6b578969-0552-4865-a2cc-a7b012dda7ca",
   "metadata": {},
   "source": [
    "#### count(): returns occurrences of substring in string, count(substring, start=.., end=..)"
   ]
  },
  {
   "cell_type": "code",
   "execution_count": 54,
   "id": "bf2bfff7-1c07-48d5-b828-e40952a1ba74",
   "metadata": {},
   "outputs": [
    {
     "name": "stdout",
     "output_type": "stream",
     "text": [
      "3\n",
      "1\n",
      "2\n"
     ]
    }
   ],
   "source": [
    "challenge = 'thirty days of python'\n",
    "print(challenge.count('y'))\n",
    "print(challenge.count('y', 7, 14)) \n",
    "print(challenge.count('th'))"
   ]
  },
  {
   "cell_type": "markdown",
   "id": "abcc4ec5-25a4-4122-8ebf-9461b198d937",
   "metadata": {},
   "source": [
    "#### endswith(): Checks if a string ends with a specified ending"
   ]
  },
  {
   "cell_type": "code",
   "execution_count": 71,
   "id": "1715d506-09b3-4204-8824-f0a8f6de121b",
   "metadata": {},
   "outputs": [
    {
     "name": "stdout",
     "output_type": "stream",
     "text": [
      "True\n",
      "False\n"
     ]
    }
   ],
   "source": [
    "challenge = 'thirty days of python'\n",
    "print(challenge.endswith('on')) \n",
    "print(challenge.endswith('tion'))"
   ]
  },
  {
   "cell_type": "markdown",
   "id": "a71b7ad6-67b8-4269-b361-032d52f2fc50",
   "metadata": {},
   "source": [
    "#### expandtabs(): Replaces tab character with spaces, default tab size is 8. It takes tab size argument"
   ]
  },
  {
   "cell_type": "code",
   "execution_count": 75,
   "id": "ff54a868-0a57-4275-87f4-255e31424979",
   "metadata": {},
   "outputs": [
    {
     "name": "stdout",
     "output_type": "stream",
     "text": [
      "thirty  days    of      python\n",
      "thirty    days      of        python\n"
     ]
    }
   ],
   "source": [
    "challenge = 'thirty\\tdays\\tof\\tpython'\n",
    "print(challenge.expandtabs())\n",
    "print(challenge.expandtabs(10)) "
   ]
  },
  {
   "cell_type": "markdown",
   "id": "e1ac2d7f-5d41-4654-ad70-dad902d2284e",
   "metadata": {},
   "source": [
    "#### find(): Returns the index of first occurrence of substring"
   ]
  },
  {
   "cell_type": "code",
   "execution_count": 80,
   "id": "e1626c05-e7cf-4e66-8d9e-e0f3835a4884",
   "metadata": {},
   "outputs": [
    {
     "name": "stdout",
     "output_type": "stream",
     "text": [
      "5\n",
      "0\n"
     ]
    }
   ],
   "source": [
    "challenge = 'thirty days of python'\n",
    "print(challenge.find('y')) \n",
    "print(challenge.find('th')) "
   ]
  },
  {
   "cell_type": "markdown",
   "id": "4f4f527b-01a5-4e42-93b3-df4019fb287e",
   "metadata": {},
   "source": [
    "#### format():\tformats string into nicer output    "
   ]
  },
  {
   "cell_type": "code",
   "execution_count": 99,
   "id": "4964dc9d-ab88-4aa0-b85f-f1e241fbfce2",
   "metadata": {},
   "outputs": [
    {
     "name": "stdout",
     "output_type": "stream",
     "text": [
      " I am Rima halder. I am a student. I live in India.\n"
     ]
    }
   ],
   "source": [
    "first_name = 'Rima'\n",
    "last_name = 'halder'\n",
    "country = 'India'\n",
    "job = 'student'\n",
    "statement = ' I am {} {}. I am a {}. I live in {}.'.format(first_name,last_name,job,country)\n",
    "print(statement)"
   ]
  },
  {
   "cell_type": "code",
   "execution_count": 101,
   "id": "2e27247a-77d8-4b7d-b3eb-8fd1d09a9402",
   "metadata": {},
   "outputs": [
    {
     "name": "stdout",
     "output_type": "stream",
     "text": [
      "The area of circle with 10 is 3.14\n"
     ]
    }
   ],
   "source": [
    "radius = 10\n",
    "pi = 3.14\n",
    "area = pi # radius ## 2\n",
    "result = 'The area of circle with {} is {}'.format(str(radius), str(area))\n",
    "print(result)"
   ]
  },
  {
   "cell_type": "markdown",
   "id": "39920d29-3e12-40bb-8b62-0ed34524bf23",
   "metadata": {},
   "source": [
    "#### index(): Returns the index of substring"
   ]
  },
  {
   "cell_type": "code",
   "execution_count": 112,
   "id": "80b36d4b-731b-43fa-bd7c-45dc6feacbf5",
   "metadata": {},
   "outputs": [
    {
     "name": "stdout",
     "output_type": "stream",
     "text": [
      "5\n",
      "0\n"
     ]
    }
   ],
   "source": [
    "challenge = 'thirty days of python'\n",
    "print(challenge.index('y')) \n",
    "print(challenge.index('th'))"
   ]
  },
  {
   "cell_type": "markdown",
   "id": "ea6101e5-5312-47fc-85c1-b2a89824f16e",
   "metadata": {},
   "source": [
    "#### isalnum(): Checks alphanumeric character"
   ]
  },
  {
   "cell_type": "code",
   "execution_count": 115,
   "id": "2e10fd53-c6ef-4a5e-afde-1ce63f106fa9",
   "metadata": {},
   "outputs": [
    {
     "name": "stdout",
     "output_type": "stream",
     "text": [
      "True\n"
     ]
    }
   ],
   "source": [
    "challenge = 'ThirtyDaysPython'\n",
    "print(challenge.isalnum())"
   ]
  },
  {
   "cell_type": "code",
   "execution_count": 117,
   "id": "a1e0c496-880d-45dc-a888-38ab6beb876d",
   "metadata": {},
   "outputs": [
    {
     "name": "stdout",
     "output_type": "stream",
     "text": [
      "True\n"
     ]
    }
   ],
   "source": [
    "challenge = '30DaysPython'\n",
    "print(challenge.isalnum()) "
   ]
  },
  {
   "cell_type": "code",
   "execution_count": 119,
   "id": "a5d2960c-c040-4a38-9354-2880fa5cf0af",
   "metadata": {},
   "outputs": [
    {
     "name": "stdout",
     "output_type": "stream",
     "text": [
      "False\n"
     ]
    }
   ],
   "source": [
    "challenge = 'thirty days of python'\n",
    "print(challenge.isalnum()) "
   ]
  },
  {
   "cell_type": "code",
   "execution_count": 121,
   "id": "73668166-cc0b-4985-bbe9-6b7f3a90eec4",
   "metadata": {},
   "outputs": [
    {
     "name": "stdout",
     "output_type": "stream",
     "text": [
      "False\n"
     ]
    }
   ],
   "source": [
    "challenge = 'thirty days of python 2019'\n",
    "print(challenge.isalnum()) "
   ]
  },
  {
   "cell_type": "markdown",
   "id": "be974832-f928-422f-b75d-8c610dd3ef11",
   "metadata": {},
   "source": [
    "#### isalpha(): Checks if all characters are alphabets"
   ]
  },
  {
   "cell_type": "code",
   "execution_count": 124,
   "id": "305b6649-c7f5-4fa6-b4f3-94e71889448d",
   "metadata": {},
   "outputs": [
    {
     "name": "stdout",
     "output_type": "stream",
     "text": [
      "False\n"
     ]
    }
   ],
   "source": [
    "challenge = 'thirty days of python'\n",
    "print(challenge.isalpha())"
   ]
  },
  {
   "cell_type": "code",
   "execution_count": 126,
   "id": "da920262-9826-4ec2-83fa-8993fee01fb6",
   "metadata": {},
   "outputs": [
    {
     "name": "stdout",
     "output_type": "stream",
     "text": [
      "False\n"
     ]
    }
   ],
   "source": [
    "num = '123'\n",
    "print(num.isalpha())"
   ]
  },
  {
   "cell_type": "markdown",
   "id": "21adbf0f-2fa5-4040-9161-def8bc550477",
   "metadata": {},
   "source": [
    "#### isdigit(): Checks Digit Characters"
   ]
  },
  {
   "cell_type": "code",
   "execution_count": 2,
   "id": "8ccc57be-1070-4114-ab49-725db483cde1",
   "metadata": {},
   "outputs": [
    {
     "name": "stdout",
     "output_type": "stream",
     "text": [
      "False\n"
     ]
    }
   ],
   "source": [
    "challenge = 'Thirty'\n",
    "print(challenge.isdigit())"
   ]
  },
  {
   "cell_type": "code",
   "execution_count": 9,
   "id": "ceb3dec7-466b-488b-b8e9-915cdb6a4809",
   "metadata": {},
   "outputs": [
    {
     "name": "stdout",
     "output_type": "stream",
     "text": [
      "False\n"
     ]
    }
   ],
   "source": [
    "challenge = '30 is a digit'\n",
    "print(challenge.isdigit())"
   ]
  },
  {
   "cell_type": "markdown",
   "id": "6c349617-f08b-4738-ad8c-e7337dd3cf02",
   "metadata": {},
   "source": [
    "#### isdecimal():Checks decimal characters"
   ]
  },
  {
   "cell_type": "code",
   "execution_count": 11,
   "id": "8be1eed6-6aa9-4c8a-8770-0f774608fab8",
   "metadata": {},
   "outputs": [
    {
     "name": "stdout",
     "output_type": "stream",
     "text": [
      "True\n"
     ]
    }
   ],
   "source": [
    "num = '10'\n",
    "print(num.isdecimal())"
   ]
  },
  {
   "cell_type": "code",
   "execution_count": 13,
   "id": "bc5ba86e-2e30-4af4-85a9-5ffab83662a0",
   "metadata": {},
   "outputs": [
    {
     "name": "stdout",
     "output_type": "stream",
     "text": [
      "False\n"
     ]
    }
   ],
   "source": [
    "num = '10.5'\n",
    "print(num.isdecimal())"
   ]
  },
  {
   "cell_type": "markdown",
   "id": "3b204f97-4203-4c98-a466-3ed733ec2955",
   "metadata": {},
   "source": [
    "#### isidentifier():Checks for valid identifier means it check if a string is a valid variable name"
   ]
  },
  {
   "cell_type": "code",
   "execution_count": 16,
   "id": "c543a671-3ce0-4106-b148-605ad30c9cd5",
   "metadata": {},
   "outputs": [
    {
     "name": "stdout",
     "output_type": "stream",
     "text": [
      "False\n"
     ]
    }
   ],
   "source": [
    "challenge = '30DaysOfPython'\n",
    "print(challenge.isidentifier())"
   ]
  },
  {
   "cell_type": "code",
   "execution_count": 18,
   "id": "62349a8c-5bba-45a4-bcc1-84685a55e6d2",
   "metadata": {},
   "outputs": [
    {
     "name": "stdout",
     "output_type": "stream",
     "text": [
      "True\n"
     ]
    }
   ],
   "source": [
    "challenge = 'thirty_days_of_python'\n",
    "print(challenge.isidentifier())"
   ]
  },
  {
   "cell_type": "markdown",
   "id": "dfa4cf44-a6df-4ed3-9e17-5aad97dfdcd5",
   "metadata": {},
   "source": [
    "#### islower():Checks if all alphabets in a string are lowercase"
   ]
  },
  {
   "cell_type": "code",
   "execution_count": 21,
   "id": "f7504984-7ecc-431c-9d38-4760e7274ce6",
   "metadata": {},
   "outputs": [
    {
     "name": "stdout",
     "output_type": "stream",
     "text": [
      "True\n"
     ]
    }
   ],
   "source": [
    "challenge = 'thirty days of python'\n",
    "print(challenge.islower())"
   ]
  },
  {
   "cell_type": "code",
   "execution_count": 23,
   "id": "a2ce322f-875d-410a-a345-45ae96c35df6",
   "metadata": {},
   "outputs": [
    {
     "name": "stdout",
     "output_type": "stream",
     "text": [
      "False\n"
     ]
    }
   ],
   "source": [
    "challenge = 'Thirty days of python'\n",
    "print(challenge.islower())"
   ]
  },
  {
   "cell_type": "markdown",
   "id": "c6a4e484-317a-48c8-807d-154f935d5c67",
   "metadata": {},
   "source": [
    "#### isupper(): returns if all characters are uppercase characters"
   ]
  },
  {
   "cell_type": "code",
   "execution_count": 26,
   "id": "1e935c4a-e3be-446e-964f-ce4648734470",
   "metadata": {},
   "outputs": [
    {
     "name": "stdout",
     "output_type": "stream",
     "text": [
      "False\n"
     ]
    }
   ],
   "source": [
    "challenge = 'thirty days of python'\n",
    "print(challenge.isupper())"
   ]
  },
  {
   "cell_type": "code",
   "execution_count": 28,
   "id": "4c51f6f4-10df-4183-b715-f790ed76b132",
   "metadata": {},
   "outputs": [
    {
     "name": "stdout",
     "output_type": "stream",
     "text": [
      "True\n"
     ]
    }
   ],
   "source": [
    "challenge = 'THIRTY DAYS OF PYTHON'\n",
    "print(challenge.isupper())"
   ]
  },
  {
   "cell_type": "markdown",
   "id": "95ee5d60-0209-4195-a1bc-4636e98e09fc",
   "metadata": {},
   "source": [
    "#### isnumeric():Checks numeric characters"
   ]
  },
  {
   "cell_type": "code",
   "execution_count": 33,
   "id": "915313db-b9e1-4dee-a173-3f82c8590173",
   "metadata": {},
   "outputs": [
    {
     "name": "stdout",
     "output_type": "stream",
     "text": [
      "True\n",
      "False\n"
     ]
    }
   ],
   "source": [
    "num = '10'\n",
    "print(num.isnumeric()) \n",
    "print('ten'.isnumeric()) "
   ]
  },
  {
   "cell_type": "markdown",
   "id": "ff9268ed-586e-43cd-9be0-d63c23eba234",
   "metadata": {},
   "source": [
    "#### join(): Returns a concatenated string"
   ]
  },
  {
   "cell_type": "code",
   "execution_count": 38,
   "id": "80f8d4b7-c99a-4ff5-b53f-0d6596cf98d9",
   "metadata": {},
   "outputs": [
    {
     "name": "stdout",
     "output_type": "stream",
     "text": [
      "HTML#, CSS#, JavaScript#, React\n"
     ]
    }
   ],
   "source": [
    "web_tech = ['HTML', 'CSS', 'JavaScript', 'React']\n",
    "result = '#, '.join(web_tech)\n",
    "print(result)"
   ]
  },
  {
   "cell_type": "code",
   "execution_count": 40,
   "id": "49b004b1-c333-456f-9650-49f0b121a040",
   "metadata": {},
   "outputs": [
    {
     "name": "stdout",
     "output_type": "stream",
     "text": [
      "HTML, CSS, JavaScript, React\n"
     ]
    }
   ],
   "source": [
    "web_tech = ['HTML', 'CSS', 'JavaScript', 'React']\n",
    "result = ', '.join(web_tech)\n",
    "print(result)"
   ]
  },
  {
   "cell_type": "code",
   "execution_count": 42,
   "id": "855ec7ce-a8ca-466f-b85d-286b3afe47ea",
   "metadata": {},
   "outputs": [
    {
     "name": "stdout",
     "output_type": "stream",
     "text": [
      "HTMLCSSJavaScriptReact\n"
     ]
    }
   ],
   "source": [
    "web_tech = ['HTML', 'CSS', 'JavaScript', 'React']\n",
    "result = ''.join(web_tech)\n",
    "print(result)"
   ]
  },
  {
   "cell_type": "code",
   "execution_count": 44,
   "id": "7cab5cf5-4c84-4205-aef1-bcb1b4cec0d7",
   "metadata": {},
   "outputs": [
    {
     "name": "stdout",
     "output_type": "stream",
     "text": [
      "HTML CSS JavaScript React\n"
     ]
    }
   ],
   "source": [
    "web_tech = ['HTML', 'CSS', 'JavaScript', 'React']\n",
    "result = ' '.join(web_tech)\n",
    "print(result)"
   ]
  },
  {
   "cell_type": "markdown",
   "id": "36098680-c913-43cd-9a35-ced079988896",
   "metadata": {},
   "source": [
    "#### strip(): Removes both leading and trailing characters"
   ]
  },
  {
   "cell_type": "code",
   "execution_count": 7,
   "id": "93a070b8-5de4-4fee-9c6f-86b5c6e07483",
   "metadata": {},
   "outputs": [
    {
     "name": "stdout",
     "output_type": "stream",
     "text": [
      "thirtydaysofpython\n"
     ]
    }
   ],
   "source": [
    "challenge = 'thirtydaysofpython'\n",
    "print(challenge.strip(\"y\"))"
   ]
  },
  {
   "cell_type": "markdown",
   "id": "ef337c0e-8507-4e77-a55a-fb20188cdf94",
   "metadata": {},
   "source": [
    "#### replace(): Replaces substring inside"
   ]
  },
  {
   "cell_type": "code",
   "execution_count": 1,
   "id": "88d1439b-1dd6-4825-882a-02f1b53f3fa5",
   "metadata": {},
   "outputs": [
    {
     "name": "stdout",
     "output_type": "stream",
     "text": [
      "thirty days of coding\n"
     ]
    }
   ],
   "source": [
    "challenge = 'thirty days of python'\n",
    "print(challenge.replace('python', 'coding'))"
   ]
  },
  {
   "cell_type": "markdown",
   "id": "30644ee0-daab-4afa-92a2-00248eec1bdc",
   "metadata": {},
   "source": [
    "#### split():Splits String from Left"
   ]
  },
  {
   "cell_type": "code",
   "execution_count": 4,
   "id": "f3dea8f0-db34-4076-b306-2927d113117e",
   "metadata": {},
   "outputs": [
    {
     "name": "stdout",
     "output_type": "stream",
     "text": [
      "['thirty', 'days', 'of', 'python']\n"
     ]
    }
   ],
   "source": [
    "challenge = 'thirty days of python'\n",
    "print(challenge.split()) "
   ]
  },
  {
   "cell_type": "markdown",
   "id": "9aabf698-9159-4eec-baa7-9bb29e504562",
   "metadata": {},
   "source": [
    "#### title(): Returns a Title Cased String"
   ]
  },
  {
   "cell_type": "code",
   "execution_count": 7,
   "id": "540d6952-e7ed-46e8-8c7b-dc9e7f293978",
   "metadata": {},
   "outputs": [
    {
     "name": "stdout",
     "output_type": "stream",
     "text": [
      "Thirty Days Of Python\n"
     ]
    }
   ],
   "source": [
    "challenge = 'thirty days of python'\n",
    "print(challenge.title())"
   ]
  },
  {
   "cell_type": "markdown",
   "id": "77138de0-57f8-440c-af50-70f2a2df224b",
   "metadata": {},
   "source": [
    "#### swapcase(): Checks if String Starts with the Specified String"
   ]
  },
  {
   "cell_type": "code",
   "execution_count": 10,
   "id": "e480903b-df66-4b62-ade4-adcfba0eba20",
   "metadata": {},
   "outputs": [
    {
     "name": "stdout",
     "output_type": "stream",
     "text": [
      "THIRTY DAYS OF PYTHON\n"
     ]
    }
   ],
   "source": [
    "challenge = 'thirty days of python'\n",
    "print(challenge.swapcase())"
   ]
  },
  {
   "cell_type": "code",
   "execution_count": 12,
   "id": "81614bc8-fd71-451c-bc1b-ae49156fb02a",
   "metadata": {},
   "outputs": [
    {
     "name": "stdout",
     "output_type": "stream",
     "text": [
      "tHIRTY dAYS oF pYTHON\n"
     ]
    }
   ],
   "source": [
    "challenge = 'Thirty Days Of Python'\n",
    "print(challenge.swapcase())"
   ]
  },
  {
   "cell_type": "markdown",
   "id": "0634ae12-cbcd-45e3-ae5f-0cf3f4f4e25b",
   "metadata": {},
   "source": [
    "#### startswith(): Checks if String Starts with the Specified String"
   ]
  },
  {
   "cell_type": "code",
   "execution_count": 17,
   "id": "a2aea56a-0461-4e06-9557-2ee5a4af44a5",
   "metadata": {},
   "outputs": [
    {
     "name": "stdout",
     "output_type": "stream",
     "text": [
      "True\n"
     ]
    }
   ],
   "source": [
    "challenge = 'thirty days of python'\n",
    "print(challenge.startswith('thirty'))"
   ]
  },
  {
   "cell_type": "code",
   "execution_count": 19,
   "id": "97bfdad1-4f8e-4673-b5f6-958e73851bfd",
   "metadata": {},
   "outputs": [
    {
     "name": "stdout",
     "output_type": "stream",
     "text": [
      "False\n"
     ]
    }
   ],
   "source": [
    "challenge = '30 days of python'\n",
    "print(challenge.startswith('thirty'))"
   ]
  },
  {
   "cell_type": "code",
   "execution_count": null,
   "id": "61da18f6-e700-4c58-a895-a07b61323efa",
   "metadata": {},
   "outputs": [],
   "source": []
  }
 ],
 "metadata": {
  "kernelspec": {
   "display_name": "Python [conda env:base] *",
   "language": "python",
   "name": "conda-base-py"
  },
  "language_info": {
   "codemirror_mode": {
    "name": "ipython",
    "version": 3
   },
   "file_extension": ".py",
   "mimetype": "text/x-python",
   "name": "python",
   "nbconvert_exporter": "python",
   "pygments_lexer": "ipython3",
   "version": "3.12.7"
  }
 },
 "nbformat": 4,
 "nbformat_minor": 5
}
